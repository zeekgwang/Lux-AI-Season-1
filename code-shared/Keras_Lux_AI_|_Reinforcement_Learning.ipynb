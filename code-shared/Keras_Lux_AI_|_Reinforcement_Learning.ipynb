{
  "nbformat": 4,
  "nbformat_minor": 0,
  "metadata": {
    "colab": {
      "name": "Keras Lux AI | Reinforcement Learning.ipynb",
      "provenance": [],
      "collapsed_sections": [],
      "authorship_tag": "ABX9TyNE/tv1B3u+9wStVF/rIx7V"
    },
    "kernelspec": {
      "name": "python3",
      "display_name": "Python 3"
    },
    "language_info": {
      "name": "python"
    },
    "accelerator": "GPU"
  },
  "cells": [
    {
      "cell_type": "markdown",
      "metadata": {
        "id": "AXLc7qBbMhPl"
      },
      "source": [
        "https://www.kaggle.com/aithammadiabdellatif/keras-lux-ai-reinforcement-learning"
      ]
    },
    {
      "cell_type": "code",
      "metadata": {
        "colab": {
          "base_uri": "https://localhost:8080/"
        },
        "id": "K2RGqQ8iMGTx",
        "outputId": "441ca41c-6fab-4c2b-e693-69b2f215ebd2"
      },
      "source": [
        "!pip install kaggle-environments -U"
      ],
      "execution_count": 1,
      "outputs": [
        {
          "output_type": "stream",
          "name": "stdout",
          "text": [
            "Requirement already satisfied: kaggle-environments in /usr/local/lib/python3.7/dist-packages (1.8.12)\n",
            "Requirement already satisfied: jsonschema>=3.0.1 in /usr/local/lib/python3.7/dist-packages (from kaggle-environments) (3.2.0)\n",
            "Requirement already satisfied: attrs>=17.4.0 in /usr/local/lib/python3.7/dist-packages (from jsonschema>=3.0.1->kaggle-environments) (21.2.0)\n",
            "Requirement already satisfied: six>=1.11.0 in /usr/local/lib/python3.7/dist-packages (from jsonschema>=3.0.1->kaggle-environments) (1.15.0)\n",
            "Requirement already satisfied: pyrsistent>=0.14.0 in /usr/local/lib/python3.7/dist-packages (from jsonschema>=3.0.1->kaggle-environments) (0.18.0)\n",
            "Requirement already satisfied: importlib-metadata in /usr/local/lib/python3.7/dist-packages (from jsonschema>=3.0.1->kaggle-environments) (4.6.4)\n",
            "Requirement already satisfied: setuptools in /usr/local/lib/python3.7/dist-packages (from jsonschema>=3.0.1->kaggle-environments) (57.4.0)\n",
            "Requirement already satisfied: typing-extensions>=3.6.4 in /usr/local/lib/python3.7/dist-packages (from importlib-metadata->jsonschema>=3.0.1->kaggle-environments) (3.7.4.3)\n",
            "Requirement already satisfied: zipp>=0.5 in /usr/local/lib/python3.7/dist-packages (from importlib-metadata->jsonschema>=3.0.1->kaggle-environments) (3.5.0)\n"
          ]
        }
      ]
    },
    {
      "cell_type": "code",
      "metadata": {
        "colab": {
          "base_uri": "https://localhost:8080/"
        },
        "id": "DS0_Xy6AMkUc",
        "outputId": "e97ab202-96d9-419c-916f-2cf9a461d6bd"
      },
      "source": [
        "!git clone https://github.com/Lux-AI-Challenge/Lux-Design-2021.git"
      ],
      "execution_count": 2,
      "outputs": [
        {
          "output_type": "stream",
          "name": "stdout",
          "text": [
            "fatal: destination path 'Lux-Design-2021' already exists and is not an empty directory.\n"
          ]
        }
      ]
    },
    {
      "cell_type": "code",
      "metadata": {
        "id": "qzsH5Dj_Mm86"
      },
      "source": [
        "!cp -r ./Lux-Design-2021/kits/python/simple/lux ."
      ],
      "execution_count": 3,
      "outputs": []
    },
    {
      "cell_type": "code",
      "metadata": {
        "colab": {
          "base_uri": "https://localhost:8080/"
        },
        "id": "0_WpD2UIMpGp",
        "outputId": "622aa3f5-b92d-46ea-b327-3b53e116d432"
      },
      "source": [
        "from kaggle_environments import make\n",
        "from lux.game import Game\n",
        "from lux.game_map import Cell, RESOURCE_TYPES, Position\n",
        "from lux.game_objects import Unit\n",
        "from lux.constants import Constants\n",
        "from lux.game_constants import GAME_CONSTANTS\n",
        "from lux import annotate"
      ],
      "execution_count": 4,
      "outputs": [
        {
          "output_type": "stream",
          "name": "stdout",
          "text": [
            "Loading environment football failed: No module named 'gfootball'\n"
          ]
        }
      ]
    },
    {
      "cell_type": "code",
      "metadata": {
        "id": "jopdke1ENaOz"
      },
      "source": [
        "import math, sys\n",
        "import numpy as np\n",
        "import random\n",
        "from collections import deque\n",
        "\n",
        "import tensorflow as tf\n",
        "from tensorflow import keras\n",
        "from keras import layers\n",
        "import tensorflow_hub as hub\n",
        "\n",
        "from IPython.display import clear_output"
      ],
      "execution_count": 5,
      "outputs": []
    },
    {
      "cell_type": "code",
      "metadata": {
        "id": "0ZcIW4DvPz6A"
      },
      "source": [
        "# 아무것도 안하는 빈 agent\n",
        "def agent(observation, configuration):\n",
        "    global game_state\n",
        "    \n",
        "    ### Do not edit ###\n",
        "    if observation[\"step\"] == 0:\n",
        "        game_state = Game()\n",
        "        game_state._initialize(observation[\"updates\"])\n",
        "        game_state._update(observation[\"updates\"][2:])\n",
        "        game_state.id = observation.player\n",
        "#         print(\"new episode\")\n",
        "    else:\n",
        "        game_state._update(observation[\"updates\"])\n",
        "    \n",
        "    actions = []\n",
        "\n",
        "    ### AI Code goes down here! ### \n",
        "    player = game_state.players[observation.player]\n",
        "    opponent = game_state.players[(observation.player + 1) % 2]\n",
        "    width, height = game_state.map.width, game_state.map.height\n",
        "#     print(observation['reward'])\n",
        "\n",
        "    return actions"
      ],
      "execution_count": 6,
      "outputs": []
    },
    {
      "cell_type": "code",
      "metadata": {
        "id": "wuGGowffQARl"
      },
      "source": [
        "env = make(\"lux_ai_2021\", configuration={\"seed\": 562124210, \"loglevel\": 2}, debug=True)\n",
        "steps = env.run([agent, agent])\n",
        "# env.render(mode=\"ipython\", width=1000, height=800)"
      ],
      "execution_count": 7,
      "outputs": []
    },
    {
      "cell_type": "markdown",
      "metadata": {
        "id": "svk6xy6fQSgG"
      },
      "source": [
        "<h1>The input of the model"
      ]
    },
    {
      "cell_type": "code",
      "metadata": {
        "id": "LBitGRfYQEgR"
      },
      "source": [
        "def get_inputs(game_state):\n",
        "    w, h = game_state.map.width, game_state.map.height\n",
        "\n",
        "    # 맵에 resource가 얼마나 남아있는지 2차원 배열로 표현\n",
        "    M = [[0 if game_state.map.map[j][i].resource == None else game_state.map.map[j][i].resource.amount for i in range(w)] for j in range(h)]\n",
        "    M = np.array(M).reshape((h,w,1))\n",
        "\n",
        "    # 자신의 유닛 피쳐 [유닛 타입, 쿨다운 시간, 나무, 석탄, 우라늄]\n",
        "    U = [[[0,0,0,0,0] for i in range(w)] for j in range(h)]\n",
        "    units = game_state.players[0].units\n",
        "    for i in units:\n",
        "        U[i.pos.y][i.pos.x] = [i.type, i.cooldown, i.cargo.wood, i.cargo.coal, i.cargo.uranium]\n",
        "    U = np.array(U)\n",
        "\n",
        "    # citytile 피쳐 [쿨다운, 연료, 연료 소모량, 팀]\n",
        "    e = game_state.players[1].cities\n",
        "    C = [[[0,0,0,0] for i in range(w)] for j in range(h)]\n",
        "    for k in e:\n",
        "        citytiles = e[k].citytiles\n",
        "        for i in citytiles:\n",
        "            C[i.pos.y][i.pos.x] = [i.cooldown, e[k].fuel, e[k].light_upkeep, e[k].team]\n",
        "    C = np.array(C)\n",
        "\n",
        "    # 모든 피쳐 하나로 union\n",
        "    E = np.dstack([M,U,C])\n",
        "\n",
        "    return E"
      ],
      "execution_count": 8,
      "outputs": []
    },
    {
      "cell_type": "code",
      "metadata": {
        "colab": {
          "base_uri": "https://localhost:8080/"
        },
        "id": "Kyly6PKbQVDT",
        "outputId": "4ea4611d-076d-4b1e-ddf4-0edff4431877"
      },
      "source": [
        "input_shape = get_inputs(game_state).shape\n",
        "input_shape"
      ],
      "execution_count": 9,
      "outputs": [
        {
          "output_type": "execute_result",
          "data": {
            "text/plain": [
              "(32, 32, 10)"
            ]
          },
          "metadata": {},
          "execution_count": 9
        }
      ]
    },
    {
      "cell_type": "markdown",
      "metadata": {
        "id": "xvdWxJGIVPBA"
      },
      "source": [
        "<h1>Model"
      ]
    },
    {
      "cell_type": "code",
      "metadata": {
        "id": "Rx8RAT-PVJ7m"
      },
      "source": [
        "def get_model(game_state):\n",
        "    inputs = keras.Input(shape = get_inputs(game_state).shape, name = 'The game map')\n",
        "\n",
        "    # 1*1 Conv를 3번 돌림 \n",
        "    c = layers.Conv2D(8, (1,1), activation='relu')(inputs)\n",
        "    c = layers.Conv2D(8, (1,1), activation='relu')(c)\n",
        "    c = layers.Conv2D(8, (1,1), activation='relu')(c)\n",
        "\n",
        "    outputs = layers.Dense(8, activation='softmax', name='direction')(c)\n",
        "\n",
        "    model = keras.Model(inputs = inputs, outputs = outputs)\n",
        "    model.compile(loss='mse', optimizer='adam')\n",
        "\n",
        "    return model"
      ],
      "execution_count": 10,
      "outputs": []
    },
    {
      "cell_type": "code",
      "metadata": {
        "colab": {
          "base_uri": "https://localhost:8080/"
        },
        "id": "W3DV65I0WeA7",
        "outputId": "bf9e3a38-34d1-45c0-b7f9-b92399748e24"
      },
      "source": [
        "model = get_model(game_state)\n",
        "model.summary()"
      ],
      "execution_count": 11,
      "outputs": [
        {
          "output_type": "stream",
          "name": "stdout",
          "text": [
            "Model: \"model\"\n",
            "_________________________________________________________________\n",
            "Layer (type)                 Output Shape              Param #   \n",
            "=================================================================\n",
            "The game map (InputLayer)    [(None, 32, 32, 10)]      0         \n",
            "_________________________________________________________________\n",
            "conv2d (Conv2D)              (None, 32, 32, 8)         88        \n",
            "_________________________________________________________________\n",
            "conv2d_1 (Conv2D)            (None, 32, 32, 8)         72        \n",
            "_________________________________________________________________\n",
            "conv2d_2 (Conv2D)            (None, 32, 32, 8)         72        \n",
            "_________________________________________________________________\n",
            "direction (Dense)            (None, 32, 32, 8)         72        \n",
            "=================================================================\n",
            "Total params: 304\n",
            "Trainable params: 304\n",
            "Non-trainable params: 0\n",
            "_________________________________________________________________\n"
          ]
        }
      ]
    },
    {
      "cell_type": "code",
      "metadata": {
        "colab": {
          "base_uri": "https://localhost:8080/",
          "height": 533
        },
        "id": "BVASjmTfWgtl",
        "outputId": "db5b7250-ae4b-4464-dc71-ce93f86423be"
      },
      "source": [
        "tf.keras.utils.plot_model(\n",
        "    model,\n",
        "    show_shapes=1,\n",
        "    show_dtype=1,\n",
        "    show_layer_names=True,\n",
        "    rankdir='TB',\n",
        "    expand_nested=False,\n",
        "    dpi=96\n",
        ")"
      ],
      "execution_count": 12,
      "outputs": [
        {
          "output_type": "execute_result",
          "data": {
            "image/png": "[encoded data removed]",
            "text/plain": [
              "<IPython.core.display.Image object>"
            ]
          },
          "metadata": {},
          "execution_count": 12
        }
      ]
    },
    {
      "cell_type": "markdown",
      "metadata": {
        "id": "rebZkVQOXJ5Y"
      },
      "source": [
        "<h1>Predict actions"
      ]
    },
    {
      "cell_type": "code",
      "metadata": {
        "colab": {
          "base_uri": "https://localhost:8080/"
        },
        "id": "LlIYn19tW_Nj",
        "outputId": "e950e406-4f33-4c0d-9879-9be5b4184066"
      },
      "source": [
        "x = get_inputs(game_state)\n",
        "y = model.predict(np.asarray([x]))[0]\n",
        "y.shape"
      ],
      "execution_count": 13,
      "outputs": [
        {
          "output_type": "execute_result",
          "data": {
            "text/plain": [
              "(32, 32, 8)"
            ]
          },
          "metadata": {},
          "execution_count": 13
        }
      ]
    },
    {
      "cell_type": "code",
      "metadata": {
        "id": "2R4pV8ISXRU_"
      },
      "source": [
        "def get_prediction_actions(y, player):\n",
        "\n",
        "    # 맵 위치마다 움직이는 action을 하나씩 정함\n",
        "    option = np.argmax(y, axis = 2)\n",
        "\n",
        "    actions = []\n",
        "\n",
        "    # 유닛 별로 action 매핑\n",
        "    for i in player.units:\n",
        "        # action mapping\n",
        "        d = \"csnwe#############\"[option[i.pos.y,i.pos.x]]\n",
        "        # 움직이는 action 이면\n",
        "        if option[i.pos.y, i.pos.x] < 5:\n",
        "            actions.append(i.move(d))\n",
        "        # 집 짓는 action 이면\n",
        "        elif option[i.pos.y, i.pos.x] == 5 and i.can_build(game_state.map):\n",
        "            actions.append(i.build_city())\n",
        "\n",
        "    # city tile 별로 action 매핑\n",
        "    city_tiles: List[CityTile] = []\n",
        "    for city in player.cities.values():\n",
        "        for city_tile in city.citytiles:\n",
        "            if option[city_tile.pos.y, city_tile.pos.x] == 6:\n",
        "                action = city_tile.research()\n",
        "                actions.append(action)\n",
        "            elif option[city_tile.pos.y, city_tile.pos.x] == 7:\n",
        "                action = city_tile.build_worker()\n",
        "                actions.append(action)\n",
        "            \n",
        "    return actions, option"
      ],
      "execution_count": 14,
      "outputs": []
    },
    {
      "cell_type": "code",
      "metadata": {
        "colab": {
          "base_uri": "https://localhost:8080/"
        },
        "id": "cr6rEPg8bGHO",
        "outputId": "92a78631-f69a-4e7a-8063-853dc2c5868a"
      },
      "source": [
        "get_prediction_actions(y, game_state.players[0])[0]"
      ],
      "execution_count": 15,
      "outputs": [
        {
          "output_type": "execute_result",
          "data": {
            "text/plain": [
              "['m u_1 c']"
            ]
          },
          "metadata": {},
          "execution_count": 15
        }
      ]
    },
    {
      "cell_type": "markdown",
      "metadata": {
        "id": "z6YpfgpRbQQ3"
      },
      "source": [
        "<h1>RL agent"
      ]
    },
    {
      "cell_type": "code",
      "metadata": {
        "id": "s-Vj4-dFbKFJ"
      },
      "source": [
        "Last_State = {}\n",
        "\n",
        "# hyper parameter\n",
        "learning_rate = 0.01\n",
        "gamma = 0.95\n",
        "epsilon = 1.0\n",
        "epsilon_final = 0.01\n",
        "epsilon_decay = 0.995\n",
        "\n",
        "# 초기화\n",
        "game_state = None\n",
        "model = None\n",
        "last_reward = 0"
      ],
      "execution_count": 16,
      "outputs": []
    },
    {
      "cell_type": "code",
      "metadata": {
        "id": "UusA3ft4bxHN"
      },
      "source": [
        "def agent(observation, configuration):\n",
        "    global game_state, epsilon, model, last_reward\n",
        "\n",
        "    ### Do not edit ###\n",
        "    if observation[\"step\"] == 0:\n",
        "        game_state = Game()\n",
        "        game_state._initialize(observation[\"updates\"])\n",
        "        game_state._update(observation[\"updates\"][2:])\n",
        "        game_state.id = observation.player\n",
        "        if not model:\n",
        "            model= get_model(game_state)\n",
        "            # model.load_weights('../input/keras-lux-ai-weights/model.h5')\n",
        "        \n",
        "    else:\n",
        "        game_state._update(observation[\"updates\"])\n",
        "\n",
        "    ### AI Code goes down here! ### \n",
        "    player = game_state.players[observation.player]\n",
        "    opponent = game_state.players[(observation.player + 1) % 2]\n",
        "    width, height = game_state.map.width, game_state.map.height\n",
        "\n",
        "    x = get_inputs(game_state)\n",
        "    y = model.predict(np.asarray([x]))[0]\n",
        "\n",
        "    # exploration\n",
        "    if random.random() < epsilon:\n",
        "        y = np.random.rand(*y.shape)\n",
        "\n",
        "    print(\"eps \",epsilon,end= \" | \") \n",
        "    actions, option = get_prediction_actions(y, player)\n",
        "\n",
        "    print(\"Reward\",observation[\"reward\"])\n",
        "\n",
        "    if observation.player in Last_State:\n",
        "        # 직전 state 정보를 가져옴\n",
        "        _x, _y, _player, _option = Last_State[observation.player]\n",
        "        # 직전 state에서 next_state로 왔더니 reward가 이만큼\n",
        "        state, next_state, reward = _x, x, observation['reward']\n",
        "\n",
        "        # reward가 커졌으면\n",
        "        if reward > last_reward:\n",
        "            r = 1\n",
        "        elif reward < last_reward:\n",
        "            r = -0.1\n",
        "        else:\n",
        "            r = 0.1\n",
        "\n",
        "        # map각 좌표당 r 값이 하나씩 생김\n",
        "        # r이 뜻하는 바 : 잘했으면 확률값을 올려주고, 못했으면 확률값은 내려준다.\n",
        "        r = r + gamma * np.amax(_y, axis = 2)\n",
        "\n",
        "        # 직전 state의 _y를 업데이트\n",
        "        for i in _player.units:\n",
        "            _y[i.pos.y, i.pos.x][_option[i.pos.y, i.pos.x]] = r[i.pos.y, i.pos.x]\n",
        "\n",
        "        # 현재 y값에 업데이트 된 _y를 반영\n",
        "        _y = y + learning_rate * _y\n",
        "\n",
        "        # model 업데이트\n",
        "        model.fit(np.asarray([state]), np.asarray([_y]), epochs=1, verbose=1)\n",
        "        # exploration을 위한 epsilon decay\n",
        "        if epsilon > epsilon_final:\n",
        "            epsilon *= epsilon_decay\n",
        "\n",
        "    Last_State[observation.player] = [x, y, player, option]\n",
        "    last_reward = observation['reward']\n",
        "\n",
        "    return actions\n"
      ],
      "execution_count": 17,
      "outputs": []
    },
    {
      "cell_type": "code",
      "metadata": {
        "colab": {
          "base_uri": "https://localhost:8080/"
        },
        "id": "DkNW8nF5gH1y",
        "outputId": "a01220b3-6f24-452a-d474-d5166e076269"
      },
      "source": [
        "episodes = 5\n",
        "\n",
        "for eps in range(episodes):\n",
        "    clear_output()\n",
        "    print(\"=== Episode {} ===\".format(eps))\n",
        "    env = make(\"lux_ai_2021\", configuration={'seed': 562124210, 'loglevel': 2}, debug=True)\n",
        "    steps = env.run([\"simple_agent\", agent])"
      ],
      "execution_count": null,
      "outputs": [
        {
          "output_type": "stream",
          "name": "stdout",
          "text": [
            "=== Episode 0 ===\n",
            "eps  1.0 | Reward 0\n",
            "eps  1.0 | Reward 10001\n",
            "1/1 [==============================] - 1s 635ms/step - loss: 0.2333\n",
            "\u001b[33m[WARN]\u001b[39m (match_Q0oRhavb9jdH) - Agent 1 tried to move unit u_2 with cooldown: 1; turn 1; cmd: m u_2 s\n",
            "eps  0.995 | Reward 10001\n",
            "1/1 [==============================] - 0s 4ms/step - loss: 0.2345\n",
            "eps  0.990025 | Reward 10001\n",
            "1/1 [==============================] - 0s 4ms/step - loss: 0.2282\n",
            "eps  0.985074875 | Reward 10001\n",
            "1/1 [==============================] - 0s 4ms/step - loss: 0.2349\n",
            "eps  0.9801495006250001 | Reward 10001\n",
            "1/1 [==============================] - 0s 4ms/step - loss: 0.2343\n",
            "eps  0.9752487531218751 | Reward 10001\n",
            "1/1 [==============================] - 0s 4ms/step - loss: 0.2313\n",
            "\u001b[33m[WARN]\u001b[39m (match_Q0oRhavb9jdH) - Agent 1 tried to move unit u_2 with cooldown: 1; turn 6; cmd: m u_2 e\n",
            "eps  0.9703725093562657 | Reward 10001\n",
            "1/1 [==============================] - 0s 4ms/step - loss: 0.2365\n",
            "eps  0.9655206468094844 | Reward 10001\n",
            "1/1 [==============================] - 0s 4ms/step - loss: 0.2350\n",
            "eps  0.960693043575437 | Reward 10001\n",
            "1/1 [==============================] - 0s 5ms/step - loss: 0.2327\n",
            "eps  0.9558895783575597 | Reward 10001\n",
            "1/1 [==============================] - 0s 4ms/step - loss: 0.2323\n",
            "eps  0.9511101304657719 | Reward 10001\n",
            "1/1 [==============================] - 0s 4ms/step - loss: 0.2409\n",
            "eps  0.946354579813443 | Reward 10001\n",
            "1/1 [==============================] - 0s 4ms/step - loss: 0.2351\n",
            "eps  0.9416228069143757 | Reward 10001\n",
            "1/1 [==============================] - 0s 4ms/step - loss: 0.2289\n",
            "eps  0.9369146928798039 | Reward 10001\n",
            "1/1 [==============================] - 0s 4ms/step - loss: 0.2389\n",
            "eps  0.9322301194154049 | Reward 10001\n",
            "1/1 [==============================] - 0s 4ms/step - loss: 0.2366\n",
            "eps  0.9275689688183278 | Reward 10001\n",
            "1/1 [==============================] - 0s 4ms/step - loss: 0.2292\n",
            "\u001b[33m[WARN]\u001b[39m (match_Q0oRhavb9jdH) - Agent 1 tried to build unit on tile (28, 27) but unit cap reached. Build more CityTiles!; turn 16; cmd: bw 28 27\n",
            "eps  0.9229311239742362 | Reward 10001\n",
            "1/1 [==============================] - 0s 4ms/step - loss: 0.2392\n",
            "eps  0.918316468354365 | Reward 10001\n",
            "1/1 [==============================] - 0s 4ms/step - loss: 0.2369\n",
            "\u001b[33m[WARN]\u001b[39m (match_Q0oRhavb9jdH) - Agent 1 tried to move unit u_2 with cooldown: 1; turn 18; cmd: m u_2 n\n",
            "eps  0.9137248860125932 | Reward 10001\n",
            "1/1 [==============================] - 0s 4ms/step - loss: 0.2321\n",
            "eps  0.9091562615825302 | Reward 10001\n",
            "1/1 [==============================] - 0s 4ms/step - loss: 0.2373\n",
            "eps  0.9046104802746175 | Reward 10001\n",
            "1/1 [==============================] - 0s 6ms/step - loss: 0.2351\n",
            "eps  0.9000874278732445 | Reward 10001\n",
            "1/1 [==============================] - 0s 4ms/step - loss: 0.2322\n",
            "eps  0.8955869907338783 | Reward 10001\n",
            "1/1 [==============================] - 0s 5ms/step - loss: 0.2317\n",
            "eps  0.8911090557802088 | Reward 10001\n",
            "1/1 [==============================] - 0s 4ms/step - loss: 0.2377\n",
            "eps  0.8866535105013078 | Reward 10001\n",
            "1/1 [==============================] - 0s 4ms/step - loss: 0.2351\n",
            "eps  0.8822202429488013 | Reward 10001\n",
            "1/1 [==============================] - 0s 4ms/step - loss: 0.2393\n",
            "eps  0.8778091417340573 | Reward 10001\n",
            "1/1 [==============================] - 0s 4ms/step - loss: 3.4011e-05\n",
            "\u001b[33m[WARN]\u001b[39m (match_Q0oRhavb9jdH) - Agent 1 tried to build unit on tile (28, 27) but unit cap reached. Build more CityTiles!; turn 27; cmd: bw 28 27\n",
            "eps  0.8734200960253871 | Reward 10001\n",
            "1/1 [==============================] - 0s 4ms/step - loss: 0.2321\n",
            "eps  0.8690529955452602 | Reward 10001\n",
            "1/1 [==============================] - 0s 4ms/step - loss: 0.2341\n",
            "eps  0.8647077305675338 | Reward 10001\n",
            "1/1 [==============================] - 0s 4ms/step - loss: 0.2372\n",
            "eps  0.8603841919146962 | Reward 10001\n",
            "1/1 [==============================] - 0s 4ms/step - loss: 3.3652e-05\n",
            "\u001b[33m[WARN]\u001b[39m (match_Q0oRhavb9jdH) - Agent 1 tried to build unit on tile (28, 27) but CityTile still with cooldown of 7; turn 31; cmd: bw 28 27\n",
            "eps  0.8560822709551227 | Reward 10001\n",
            "1/1 [==============================] - 0s 4ms/step - loss: 0.2323\n",
            "\u001b[33m[WARN]\u001b[39m (match_Q0oRhavb9jdH) - Agent 1 tried to build unit on tile (28, 27) but CityTile still with cooldown of 6; turn 32; cmd: bw 28 27\n",
            "eps  0.851801859600347 | Reward 10001\n",
            "1/1 [==============================] - 0s 4ms/step - loss: 0.2365\n",
            "eps  0.8475428503023453 | Reward 10001\n",
            "1/1 [==============================] - 0s 4ms/step - loss: 0.2305\n",
            "eps  0.8433051360508336 | Reward 10001\n",
            "1/1 [==============================] - 0s 4ms/step - loss: 0.2330\n",
            "\u001b[33m[WARN]\u001b[39m (match_Q0oRhavb9jdH) - Agent 1 tried to run research at CityTile (28, 27) but CityTile still on cooldown 3; turn 35; cmd: r 28 27\n",
            "eps  0.8390886103705794 | Reward 10001\n",
            "1/1 [==============================] - 0s 4ms/step - loss: 0.2349\n",
            "\u001b[33m[WARN]\u001b[39m (match_Q0oRhavb9jdH) - Agent 1 tried to build unit on tile (28, 27) but CityTile still with cooldown of 2; turn 36; cmd: bw 28 27\n",
            "eps  0.8348931673187264 | Reward 10001\n",
            "1/1 [==============================] - 0s 5ms/step - loss: 0.2369\n",
            "eps  0.8307187014821328 | Reward 10001\n",
            "1/1 [==============================] - 0s 4ms/step - loss: 0.2364\n",
            "eps  0.8265651079747222 | Reward 10001\n",
            "1/1 [==============================] - 0s 4ms/step - loss: 3.3447e-05\n",
            "\u001b[33m[WARN]\u001b[39m (match_Q0oRhavb9jdH) - Agent 1 tried to build unit on tile (28, 27) but CityTile still with cooldown of 9; turn 39; cmd: bw 28 27\n",
            "eps  0.8224322824348486 | Reward 10001\n",
            "1/1 [==============================] - 0s 4ms/step - loss: 0.2282\n",
            "\u001b[33m[WARN]\u001b[39m (match_Q0oRhavb9jdH) - Agent 1 tried to build unit on tile (28, 27) but CityTile still with cooldown of 8; turn 40; cmd: bw 28 27\n",
            "eps  0.8183201210226743 | Reward 10001\n",
            "1/1 [==============================] - 0s 4ms/step - loss: 0.2320\n",
            "eps  0.8142285204175609 | Reward 10001\n",
            "1/1 [==============================] - 0s 4ms/step - loss: 0.2353\n",
            "\u001b[33m[WARN]\u001b[39m (match_Q0oRhavb9jdH) - Agent 1 tried to move unit u_2 with cooldown: 1; turn 42; cmd: m u_2 c\n",
            "\u001b[33m[WARN]\u001b[39m (match_Q0oRhavb9jdH) - Agent 1 tried to run research at CityTile (28, 27) but CityTile still on cooldown 6; turn 42; cmd: r 28 27\n",
            "eps  0.810157377815473 | Reward 10001\n",
            "1/1 [==============================] - 0s 4ms/step - loss: 0.2361\n",
            "eps  0.8061065909263957 | Reward 10001\n",
            "1/1 [==============================] - 0s 4ms/step - loss: 3.3510e-05\n",
            "\u001b[33m[WARN]\u001b[39m (match_Q0oRhavb9jdH) - Agent 1 tried to move unit u_2 with cooldown: 1; turn 44; cmd: m u_2 n\n",
            "\u001b[33m[WARN]\u001b[39m (match_Q0oRhavb9jdH) - Agent 1 tried to build unit on tile (28, 27) but CityTile still with cooldown of 4; turn 44; cmd: bw 28 27\n",
            "eps  0.8020760579717637 | Reward 10001\n",
            "1/1 [==============================] - 0s 4ms/step - loss: 2.3213e-06\n",
            "\u001b[33m[WARN]\u001b[39m (match_Q0oRhavb9jdH) - Agent 1 tried to build unit on tile (28, 27) but CityTile still with cooldown of 3; turn 45; cmd: bw 28 27\n",
            "eps  0.798065677681905 | Reward 10001\n",
            "1/1 [==============================] - 0s 4ms/step - loss: 0.2304\n",
            "\u001b[33m[WARN]\u001b[39m (match_Q0oRhavb9jdH) - Agent 1 tried to run research at CityTile (28, 27) but CityTile still on cooldown 2; turn 46; cmd: r 28 27\n",
            "eps  0.7940753492934954 | Reward 10001\n",
            "1/1 [==============================] - 0s 4ms/step - loss: 0.2336\n",
            "eps  0.7901049725470279 | Reward 10001\n",
            "1/1 [==============================] - 0s 4ms/step - loss: 0.2347\n",
            "eps  0.7861544476842928 | Reward 10001\n",
            "1/1 [==============================] - 0s 4ms/step - loss: 0.2315\n",
            "eps  0.7822236754458713 | Reward 10001\n",
            "1/1 [==============================] - 0s 4ms/step - loss: 0.2329\n",
            "eps  0.778312557068642 | Reward 10001\n",
            "1/1 [==============================] - 0s 4ms/step - loss: 3.3091e-05\n",
            "\u001b[33m[WARN]\u001b[39m (match_Q0oRhavb9jdH) - Agent 1 tried to build unit on tile (28, 27) but CityTile still with cooldown of 9; turn 51; cmd: bw 28 27\n",
            "eps  0.7744209942832988 | Reward 10001\n",
            "1/1 [==============================] - 0s 4ms/step - loss: 0.2317\n",
            "eps  0.7705488893118823 | Reward 10001\n",
            "1/1 [==============================] - 0s 4ms/step - loss: 3.3161e-05\n",
            "\u001b[33m[WARN]\u001b[39m (match_Q0oRhavb9jdH) - Agent 1 tried to build unit on tile (28, 27) but CityTile still with cooldown of 7; turn 53; cmd: bw 28 27\n",
            "eps  0.7666961448653229 | Reward 10001\n",
            "1/1 [==============================] - 0s 4ms/step - loss: 0.2343\n",
            "eps  0.7628626641409962 | Reward 10001\n",
            "1/1 [==============================] - 0s 4ms/step - loss: 0.2349\n",
            "eps  0.7590483508202912 | Reward 20001\n",
            "1/1 [==============================] - 0s 4ms/step - loss: 0.2295\n",
            "eps  0.7552531090661897 | Reward 20001\n",
            "1/1 [==============================] - 0s 5ms/step - loss: 0.2331\n",
            "\u001b[33m[WARN]\u001b[39m (match_Q0oRhavb9jdH) - Agent 1 tried to move unit u_2 with cooldown: 1; turn 57; cmd: m u_2 e\n",
            "eps  0.7514768435208588 | Reward 20001\n",
            "1/1 [==============================] - 0s 4ms/step - loss: 0.2334\n",
            "eps  0.7477194593032545 | Reward 20001\n",
            "1/1 [==============================] - 0s 4ms/step - loss: 0.2411\n",
            "\u001b[33m[WARN]\u001b[39m (match_Q0oRhavb9jdH) - Agent 1 tried to move unit u_2 with cooldown: 1; turn 59; cmd: m u_2 s\n",
            "eps  0.7439808620067382 | Reward 20001\n",
            "1/1 [==============================] - 0s 4ms/step - loss: 3.4074e-05\n",
            "\u001b[33m[WARN]\u001b[39m (match_Q0oRhavb9jdH) - Agent 1 tried to build unit on tile (29, 28) but CityTile still with cooldown of 9; turn 60; cmd: bw 29 28\n",
            "eps  0.7402609576967045 | Reward 20002\n",
            "1/1 [==============================] - 0s 4ms/step - loss: 0.2337\n",
            "\u001b[33m[WARN]\u001b[39m (match_Q0oRhavb9jdH) - Agent 1 tried to build unit on tile (29, 28) but CityTile still with cooldown of 8; turn 61; cmd: bw 29 28\n",
            "eps  0.736559652908221 | Reward 20002\n",
            "1/1 [==============================] - 0s 4ms/step - loss: 3.3513e-05\n",
            "\u001b[33m[WARN]\u001b[39m (match_Q0oRhavb9jdH) - Agent 1 tried to build unit on tile (28, 27) but CityTile still with cooldown of 8; turn 62; cmd: bw 28 27\n",
            "\u001b[33m[WARN]\u001b[39m (match_Q0oRhavb9jdH) - Agent 1 tried to build unit on tile (29, 28) but CityTile still with cooldown of 7; turn 62; cmd: bw 29 28\n",
            "eps  0.7328768546436799 | Reward 20002\n",
            "1/1 [==============================] - 0s 6ms/step - loss: 0.2292\n",
            "eps  0.7292124703704616 | Reward 20002\n",
            "1/1 [==============================] - 0s 4ms/step - loss: 0.2348\n",
            "\u001b[33m[WARN]\u001b[39m (match_Q0oRhavb9jdH) - Agent 1 tried to build unit on tile (29, 28) but CityTile still with cooldown of 5; turn 64; cmd: bw 29 28\n",
            "eps  0.7255664080186093 | Reward 20002\n",
            "1/1 [==============================] - 0s 4ms/step - loss: 0.2310\n",
            "\u001b[33m[WARN]\u001b[39m (match_Q0oRhavb9jdH) - Agent 1 tried to build unit on tile (29, 28) but CityTile still with cooldown of 4; turn 65; cmd: bw 29 28\n",
            "eps  0.7219385759785162 | Reward 20002\n",
            "1/1 [==============================] - 0s 4ms/step - loss: 0.2366\n",
            "\u001b[33m[WARN]\u001b[39m (match_Q0oRhavb9jdH) - Agent 1 tried to move unit u_2 with cooldown: 1; turn 66; cmd: m u_2 c\n",
            "eps  0.7183288830986236 | Reward 20002\n",
            "1/1 [==============================] - 0s 4ms/step - loss: 3.3573e-05\n",
            "\u001b[33m[WARN]\u001b[39m (match_Q0oRhavb9jdH) - Agent 1 tried to build unit on tile (28, 27) but CityTile still with cooldown of 3; turn 67; cmd: bw 28 27\n",
            "\u001b[33m[WARN]\u001b[39m (match_Q0oRhavb9jdH) - Agent 1 tried to build unit on tile (29, 28) but CityTile still with cooldown of 2; turn 67; cmd: bw 29 28\n",
            "eps  0.7147372386831305 | Reward 20002\n",
            "1/1 [==============================] - 0s 4ms/step - loss: 0.2296\n",
            "eps  0.7111635524897149 | Reward 20002\n",
            "1/1 [==============================] - 0s 4ms/step - loss: 3.3053e-05\n",
            "\u001b[33m[WARN]\u001b[39m (match_Q0oRhavb9jdH) - Agent 1 tried to build unit on tile (28, 27) but CityTile still with cooldown of 1; turn 69; cmd: bw 28 27\n",
            "\u001b[33m[WARN]\u001b[39m (match_Q0oRhavb9jdH) - Agent 1 tried to build unit on tile (29, 28) but unit cap reached. Build more CityTiles!; turn 69; cmd: bw 29 28\n",
            "eps  0.7076077347272662 | Reward 20002\n",
            "1/1 [==============================] - 0s 4ms/step - loss: 0.2330\n",
            "\u001b[33m[WARN]\u001b[39m (match_Q0oRhavb9jdH) - Agent 1 tried to build unit on tile (29, 28) but unit cap reached. Build more CityTiles!; turn 70; cmd: bw 29 28\n",
            "eps  0.7040696960536299 | Reward 10002\n",
            "1/1 [==============================] - 0s 5ms/step - loss: 0.2335\n",
            "\u001b[33m[WARN]\u001b[39m (match_Q0oRhavb9jdH) - Agent 1 tried to move unit u_2 with cooldown: 3; turn 71; cmd: m u_2 e\n",
            "eps  0.7005493475733617 | Reward 10002\n",
            "1/1 [==============================] - 0s 4ms/step - loss: 0.2325\n",
            "eps  0.697046600835495 | Reward 10002\n",
            "1/1 [==============================] - 0s 4ms/step - loss: 0.2353\n",
            "eps  0.6935613678313175 | Reward 10002\n",
            "1/1 [==============================] - 0s 4ms/step - loss: 0.2324\n",
            "eps  0.6900935609921609 | Reward 10002\n",
            "1/1 [==============================] - 0s 4ms/step - loss: 0.2375\n",
            "eps  0.6866430931872001 | Reward 10002\n",
            "1/1 [==============================] - 0s 4ms/step - loss: 0.2337\n",
            "\u001b[33m[WARN]\u001b[39m (match_Q0oRhavb9jdH) - Agent 1 tried to move unit u_2 with cooldown: 2; turn 76; cmd: m u_2 e\n",
            "\u001b[33m[WARN]\u001b[39m (match_Q0oRhavb9jdH) - Agent 1 tried to move unit u_3 with cooldown: 2; turn 76; cmd: m u_3 n\n",
            "\u001b[33m[WARN]\u001b[39m (match_Q0oRhavb9jdH) - Agent 1 tried to run research at CityTile (28, 27) but CityTile still on cooldown 6; turn 76; cmd: r 28 27\n",
            "eps  0.6832098777212641 | Reward 10002\n",
            "1/1 [==============================] - 0s 4ms/step - loss: 0.2356\n",
            "\u001b[33m[WARN]\u001b[39m (match_Q0oRhavb9jdH) - Agent 1 tried to move unit u_2 with cooldown: 1; turn 77; cmd: m u_2 s\n",
            "\u001b[33m[WARN]\u001b[39m (match_Q0oRhavb9jdH) - Agent 1 tried to move unit u_3 with cooldown: 1; turn 77; cmd: m u_3 n\n",
            "\u001b[33m[WARN]\u001b[39m (match_Q0oRhavb9jdH) - Agent 1 tried to build unit on tile (28, 27) but CityTile still with cooldown of 5; turn 77; cmd: bw 28 27\n",
            "eps  0.6797938283326578 | Reward 10002\n",
            "1/1 [==============================] - 0s 4ms/step - loss: 3.3443e-05\n",
            "\u001b[33m[WARN]\u001b[39m (match_Q0oRhavb9jdH) - Agent 1 tried to build unit on tile (28, 27) but CityTile still with cooldown of 4; turn 78; cmd: bw 28 27\n",
            "eps  0.6763948591909945 | Reward 10002\n",
            "1/1 [==============================] - 0s 4ms/step - loss: 0.2313\n",
            "eps  0.6730128848950395 | Reward 10002\n",
            "1/1 [==============================] - 0s 4ms/step - loss: 0.2302\n",
            "\u001b[33m[WARN]\u001b[39m (match_Q0oRhavb9jdH) - Agent 1 tried to move unit u_2 with cooldown: 3; turn 80; cmd: m u_2 e\n",
            "eps  0.6696478204705644 | Reward 10002\n",
            "1/1 [==============================] - 0s 4ms/step - loss: 3.2696e-05\n",
            "eps  0.6662995813682115 | Reward 10002\n",
            "1/1 [==============================] - 0s 4ms/step - loss: 2.8491e-06\n",
            "eps  0.6629680834613705 | Reward 10002\n",
            "1/1 [==============================] - 0s 4ms/step - loss: 0.2314\n",
            "\u001b[33m[WARN]\u001b[39m (match_Q0oRhavb9jdH) - Agent 1 tried to build unit on tile (28, 27) but unit cap reached. Build more CityTiles!; turn 83; cmd: bw 28 27\n",
            "eps  0.6596532430440636 | Reward 20002\n",
            "1/1 [==============================] - 0s 4ms/step - loss: 0.2321\n",
            "\u001b[33m[WARN]\u001b[39m (match_Q0oRhavb9jdH) - Agent 1 tried to move unit u_2 with cooldown: 1; turn 84; cmd: m u_2 n\n",
            "eps  0.6563549768288433 | Reward 20002\n",
            "1/1 [==============================] - 0s 4ms/step - loss: 4.8586e-05\n",
            "eps  0.653073201944699 | Reward 20002\n",
            "1/1 [==============================] - 0s 4ms/step - loss: 8.6200e-05\n",
            "eps  0.6498078359349755 | Reward 20002\n",
            "1/1 [==============================] - 0s 4ms/step - loss: 0.2295\n",
            "eps  0.6465587967553006 | Reward 20002\n",
            "1/1 [==============================] - 0s 4ms/step - loss: 0.2328\n",
            "eps  0.6433260027715241 | Reward 20002\n",
            "1/1 [==============================] - 0s 4ms/step - loss: 3.4613e-05\n",
            "eps  0.6401093727576664 | Reward 20002\n",
            "1/1 [==============================] - 0s 4ms/step - loss: 0.2305\n",
            "\u001b[33m[WARN]\u001b[39m (match_Q0oRhavb9jdH) - Agent 1 tried to build unit on tile (28, 27) but unit cap reached. Build more CityTiles!; turn 90; cmd: bw 28 27\n",
            "\u001b[33m[WARN]\u001b[39m (match_Q0oRhavb9jdH) - Agent 1 tried to build unit on tile (28, 29) but unit cap reached. Build more CityTiles!; turn 90; cmd: bw 28 29\n",
            "\u001b[33m[WARN]\u001b[39m (match_Q0oRhavb9jdH) - turn 90; Unit u_2 collided when trying to move w to (28, 30)\n",
            "eps  0.6369088258938781 | Reward 20002\n",
            "1/1 [==============================] - 0s 4ms/step - loss: 0.2359\n",
            "eps  0.6337242817644086 | Reward 20002\n",
            "1/1 [==============================] - 0s 4ms/step - loss: 0.2315\n",
            "eps  0.6305556603555866 | Reward 20002\n",
            "1/1 [==============================] - 0s 4ms/step - loss: 0.2338\n",
            "\u001b[33m[WARN]\u001b[39m (match_Q0oRhavb9jdH) - turn 93; Unit u_3 collided when trying to move e to (29, 30)\n",
            "eps  0.6274028820538087 | Reward 20002\n",
            "1/1 [==============================] - 0s 4ms/step - loss: 0.2369\n",
            "eps  0.6242658676435396 | Reward 20002\n",
            "1/1 [==============================] - 0s 4ms/step - loss: 0.2374\n",
            "eps  0.6211445383053219 | Reward 20002\n",
            "1/1 [==============================] - 0s 4ms/step - loss: 3.3397e-05\n",
            "\u001b[33m[WARN]\u001b[39m (match_Q0oRhavb9jdH) - Agent 1 tried to move unit u_3 with cooldown: 1; turn 96; cmd: m u_3 w\n",
            "eps  0.6180388156137953 | Reward 20002\n",
            "1/1 [==============================] - 0s 4ms/step - loss: 0.2328\n",
            "eps  0.6149486215357263 | Reward 20002\n",
            "1/1 [==============================] - 0s 4ms/step - loss: 3.3581e-05\n",
            "\u001b[33m[WARN]\u001b[39m (match_Q0oRhavb9jdH) - Agent 1 tried to move unit u_3 with cooldown: 1; turn 98; cmd: m u_3 w\n",
            "eps  0.6118738784280476 | Reward 20002\n",
            "1/1 [==============================] - 0s 4ms/step - loss: 2.3252e-06\n",
            "\u001b[33m[WARN]\u001b[39m (match_Q0oRhavb9jdH) - Agent 1 tried to move unit u_2 with cooldown: 1; turn 99; cmd: m u_2 w\n",
            "eps  0.6088145090359074 | Reward 20002\n",
            "1/1 [==============================] - 0s 4ms/step - loss: 2.3185e-06\n",
            "\u001b[33m[WARN]\u001b[39m (match_Q0oRhavb9jdH) - Agent 1 tried to move unit u_3 with cooldown: 1; turn 100; cmd: m u_3 w\n",
            "\u001b[33m[WARN]\u001b[39m (match_Q0oRhavb9jdH) - Agent 1 tried to build unit on tile (28, 27) but CityTile still with cooldown of 2; turn 100; cmd: bw 28 27\n",
            "eps  0.6057704364907278 | Reward 20002\n",
            "1/1 [==============================] - 0s 4ms/step - loss: 0.2324\n",
            "\u001b[33m[WARN]\u001b[39m (match_Q0oRhavb9jdH) - Agent 1 tried to build unit on tile (28, 27) but CityTile still with cooldown of 1; turn 101; cmd: bw 28 27\n",
            "\u001b[33m[WARN]\u001b[39m (match_Q0oRhavb9jdH) - Agent 1 tried to build unit on tile (28, 29) but unit cap reached. Build more CityTiles!; turn 101; cmd: bw 28 29\n",
            "eps  0.6027415843082742 | Reward 20002\n",
            "1/1 [==============================] - 0s 4ms/step - loss: 0.2322\n",
            "\u001b[33m[WARN]\u001b[39m (match_Q0oRhavb9jdH) - turn 102; Unit u_2 collided when trying to move c to (26, 30)\n",
            "\u001b[33m[WARN]\u001b[39m (match_Q0oRhavb9jdH) - turn 102; Unit u_2 collided when trying to move c to (26, 30)\n",
            "\u001b[33m[WARN]\u001b[39m (match_Q0oRhavb9jdH) - turn 102; Unit u_3 collided when trying to move n to (26, 30)\n",
            "\u001b[33m[WARN]\u001b[39m (match_Q0oRhavb9jdH) - turn 102; Unit u_3 collided when trying to move n to (26, 30)\n",
            "eps  0.5997278763867329 | Reward 20002\n",
            "1/1 [==============================] - 0s 4ms/step - loss: 3.3072e-05\n",
            "\u001b[33m[WARN]\u001b[39m (match_Q0oRhavb9jdH) - Agent 1 tried to build unit on tile (28, 27) but unit cap reached. Build more CityTiles!; turn 103; cmd: bw 28 27\n",
            "eps  0.5967292370047992 | Reward 20002\n",
            "1/1 [==============================] - 0s 5ms/step - loss: 2.3159e-06\n",
            "\u001b[33m[WARN]\u001b[39m (match_Q0oRhavb9jdH) - Agent 1 tried to move unit u_2 with cooldown: 1; turn 104; cmd: m u_2 w\n",
            "\u001b[33m[WARN]\u001b[39m (match_Q0oRhavb9jdH) - Agent 1 tried to move unit u_3 with cooldown: 1; turn 104; cmd: m u_3 w\n",
            "eps  0.5937455908197752 | Reward 20002\n",
            "1/1 [==============================] - 0s 4ms/step - loss: 0.2311\n",
            "eps  0.5907768628656763 | Reward 30002\n",
            "1/1 [==============================] - 0s 4ms/step - loss: 8.6162e-05\n",
            "eps  0.5878229785513479 | Reward 30002\n",
            "1/1 [==============================] - 0s 4ms/step - loss: 2.3378e-06\n",
            "eps  0.5848838636585911 | Reward 30003\n",
            "1/1 [==============================] - 0s 4ms/step - loss: 2.5690e-06\n",
            "\u001b[33m[WARN]\u001b[39m (match_Q0oRhavb9jdH) - Agent 1 tried to build unit on tile (28, 27) but CityTile still with cooldown of 9; turn 108; cmd: bw 28 27\n",
            "eps  0.5819594443402982 | Reward 30003\n",
            "1/1 [==============================] - 0s 4ms/step - loss: 2.3589e-06\n",
            "\u001b[33m[WARN]\u001b[39m (match_Q0oRhavb9jdH) - Agent 1 tried to build unit on tile (28, 27) but CityTile still with cooldown of 8; turn 109; cmd: bw 28 27\n",
            "eps  0.5790496471185967 | Reward 30003\n",
            "1/1 [==============================] - 0s 4ms/step - loss: 0.2325\n",
            "\u001b[33m[WARN]\u001b[39m (match_Q0oRhavb9jdH) - Agent 1 tried to build unit on tile (28, 27) but CityTile still with cooldown of 7; turn 110; cmd: bw 28 27\n",
            "eps  0.5761543988830038 | Reward 20001\n",
            "1/1 [==============================] - 0s 4ms/step - loss: 0.2341\n",
            "\u001b[33m[WARN]\u001b[39m (match_Q0oRhavb9jdH) - Agent 1 tried to build unit on tile (28, 27) but CityTile still with cooldown of 6; turn 111; cmd: bw 28 27\n",
            "eps  0.5732736268885887 | Reward 10001\n",
            "1/1 [==============================] - 0s 4ms/step - loss: 8.1055e-05\n",
            "\u001b[33m[WARN]\u001b[39m (match_Q0oRhavb9jdH) - Agent 1 tried to build unit on tile (28, 27) but CityTile still with cooldown of 5; turn 112; cmd: bw 28 27\n",
            "eps  0.5704072587541458 | Reward 10001\n",
            "1/1 [==============================] - 0s 4ms/step - loss: 2.3198e-06\n",
            "\u001b[33m[WARN]\u001b[39m (match_Q0oRhavb9jdH) - Agent 1 tried to build unit on tile (28, 27) but CityTile still with cooldown of 4; turn 113; cmd: bw 28 27\n",
            "eps  0.567555222460375 | Reward 10001\n",
            "1/1 [==============================] - 0s 4ms/step - loss: 0.2263\n",
            "eps  0.5647174463480732 | Reward 10001\n",
            "1/1 [==============================] - 0s 4ms/step - loss: 3.2663e-05\n",
            "\u001b[33m[WARN]\u001b[39m (match_Q0oRhavb9jdH) - Agent 1 tried to build unit on tile (28, 27) but CityTile still with cooldown of 2; turn 115; cmd: bw 28 27\n",
            "eps  0.5618938591163328 | Reward 10001\n",
            "1/1 [==============================] - 0s 4ms/step - loss: 0.2303\n",
            "eps  0.5590843898207511 | Reward 10001\n",
            "1/1 [==============================] - 0s 4ms/step - loss: 3.3038e-05\n",
            "\u001b[33m[WARN]\u001b[39m (match_Q0oRhavb9jdH) - Agent 1 tried to build unit on tile (28, 27) but unit cap reached. Build more CityTiles!; turn 117; cmd: bw 28 27\n",
            "eps  0.5562889678716474 | Reward 10001\n",
            "1/1 [==============================] - 0s 4ms/step - loss: 2.3211e-06\n",
            "\u001b[33m[WARN]\u001b[39m (match_Q0oRhavb9jdH) - Agent 1 tried to build unit on tile (28, 27) but unit cap reached. Build more CityTiles!; turn 118; cmd: bw 28 27\n",
            "eps  0.5535075230322891 | Reward 10001\n",
            "1/1 [==============================] - 0s 8ms/step - loss: 0.2319\n",
            "eps  0.5507399854171277 | Reward 10001\n",
            "1/1 [==============================] - 0s 4ms/step - loss: 3.3210e-05\n",
            "\u001b[33m[WARN]\u001b[39m (match_Q0oRhavb9jdH) - Agent 1 tried to build unit on tile (28, 27) but unit cap reached. Build more CityTiles!; turn 120; cmd: bw 28 27\n",
            "eps  0.547986285490042 | Reward 10001\n",
            "1/1 [==============================] - 0s 4ms/step - loss: 0.2296\n",
            "eps  0.5452463540625918 | Reward 10001\n",
            "1/1 [==============================] - 0s 4ms/step - loss: 0.2342\n",
            "eps  0.5425201222922789 | Reward 10001\n",
            "1/1 [==============================] - 0s 4ms/step - loss: 3.3267e-05\n",
            "\u001b[33m[WARN]\u001b[39m (match_Q0oRhavb9jdH) - Agent 1 tried to build unit on tile (28, 27) but unit cap reached. Build more CityTiles!; turn 123; cmd: bw 28 27\n",
            "eps  0.5398075216808175 | Reward 10001\n",
            "1/1 [==============================] - 0s 4ms/step - loss: 2.3219e-06\n",
            "\u001b[33m[WARN]\u001b[39m (match_Q0oRhavb9jdH) - Agent 1 tried to build unit on tile (28, 27) but unit cap reached. Build more CityTiles!; turn 124; cmd: bw 28 27\n",
            "eps  0.5371084840724134 | Reward 10001\n",
            "1/1 [==============================] - 0s 4ms/step - loss: 2.3213e-06\n",
            "\u001b[33m[WARN]\u001b[39m (match_Q0oRhavb9jdH) - Agent 1 tried to build unit on tile (28, 27) but unit cap reached. Build more CityTiles!; turn 125; cmd: bw 28 27\n",
            "eps  0.5344229416520513 | Reward 10001\n",
            "1/1 [==============================] - 0s 4ms/step - loss: 0.2298\n",
            "eps  0.531750826943791 | Reward 10001\n",
            "1/1 [==============================] - 0s 4ms/step - loss: 0.2322\n",
            "eps  0.5290920728090721 | Reward 10001\n",
            "1/1 [==============================] - 0s 4ms/step - loss: 0.2371\n",
            "\u001b[33m[WARN]\u001b[39m (match_Q0oRhavb9jdH) - Agent 1 tried to move unit u_4 with cooldown: 1; turn 128; cmd: m u_4 n\n",
            "eps  0.5264466124450268 | Reward 10001\n",
            "1/1 [==============================] - 0s 4ms/step - loss: 3.3611e-05\n",
            "\u001b[33m[WARN]\u001b[39m (match_Q0oRhavb9jdH) - Agent 1 tried to build unit on tile (28, 27) but CityTile still with cooldown of 9; turn 129; cmd: bw 28 27\n",
            "eps  0.5238143793828016 | Reward 10001\n",
            "1/1 [==============================] - 0s 4ms/step - loss: 2.3224e-06\n",
            "\u001b[33m[WARN]\u001b[39m (match_Q0oRhavb9jdH) - Agent 1 tried to build unit on tile (28, 27) but CityTile still with cooldown of 8; turn 130; cmd: bw 28 27\n",
            "eps  0.5211953074858876 | Reward 10001\n",
            "1/1 [==============================] - 0s 4ms/step - loss: 0.2338\n",
            "eps  0.5185893309484582 | Reward 10001\n",
            "1/1 [==============================] - 0s 4ms/step - loss: 3.3515e-05\n",
            "\u001b[33m[WARN]\u001b[39m (match_Q0oRhavb9jdH) - Agent 1 tried to build unit on tile (28, 27) but CityTile still with cooldown of 6; turn 132; cmd: bw 28 27\n",
            "eps  0.5159963842937159 | Reward 10001\n",
            "1/1 [==============================] - 0s 4ms/step - loss: 2.3214e-06\n",
            "\u001b[33m[WARN]\u001b[39m (match_Q0oRhavb9jdH) - Agent 1 tried to build unit on tile (28, 27) but CityTile still with cooldown of 5; turn 133; cmd: bw 28 27\n",
            "eps  0.5134164023722473 | Reward 10001\n",
            "1/1 [==============================] - 0s 4ms/step - loss: 0.2314\n",
            "eps  0.510849320360386 | Reward 10001\n",
            "1/1 [==============================] - 0s 4ms/step - loss: 0.2377\n",
            "eps  0.5082950737585841 | Reward 10001\n",
            "1/1 [==============================] - 0s 5ms/step - loss: 0.2339\n",
            "\u001b[33m[WARN]\u001b[39m (match_Q0oRhavb9jdH) - Agent 1 tried to move unit u_4 with cooldown: 1; turn 136; cmd: m u_4 e\n",
            "\u001b[33m[WARN]\u001b[39m (match_Q0oRhavb9jdH) - Agent 1 tried to build unit on tile (28, 27) but CityTile still with cooldown of 2; turn 136; cmd: bw 28 27\n",
            "eps  0.5057535983897912 | Reward 10001\n",
            "1/1 [==============================] - 0s 4ms/step - loss: 3.3134e-05\n",
            "\u001b[33m[WARN]\u001b[39m (match_Q0oRhavb9jdH) - Agent 1 tried to build unit on tile (28, 27) but CityTile still with cooldown of 1; turn 137; cmd: bw 28 27\n",
            "eps  0.5032248303978422 | Reward 10001\n",
            "1/1 [==============================] - 0s 4ms/step - loss: 0.2314\n",
            "eps  0.500708706245853 | Reward 10001\n",
            "1/1 [==============================] - 0s 4ms/step - loss: 0.2379\n",
            "eps  0.4982051627146237 | Reward 10001\n",
            "1/1 [==============================] - 0s 4ms/step - loss: 3.3640e-05\n",
            "\u001b[33m[WARN]\u001b[39m (match_Q0oRhavb9jdH) - Agent 1 tried to build unit on tile (28, 27) but unit cap reached. Build more CityTiles!; turn 140; cmd: bw 28 27\n",
            "eps  0.49571413690105054 | Reward 10001\n",
            "1/1 [==============================] - 0s 4ms/step - loss: 2.3214e-06\n",
            "\u001b[33m[WARN]\u001b[39m (match_Q0oRhavb9jdH) - Agent 1 tried to build unit on tile (28, 27) but unit cap reached. Build more CityTiles!; turn 141; cmd: bw 28 27\n",
            "eps  0.4932355662165453 | Reward 10001\n",
            "1/1 [==============================] - 0s 4ms/step - loss: 0.2323\n",
            "eps  0.4907693883854626 | Reward 10001\n",
            "1/1 [==============================] - 0s 4ms/step - loss: 0.2407\n",
            "\u001b[33m[WARN]\u001b[39m (match_Q0oRhavb9jdH) - Agent 1 tried to move unit u_4 with cooldown: 1; turn 143; cmd: m u_4 s\n",
            "eps  0.4883155414435353 | Reward 10001\n",
            "1/1 [==============================] - 0s 4ms/step - loss: 3.4005e-05\n",
            "\u001b[33m[WARN]\u001b[39m (match_Q0oRhavb9jdH) - Agent 1 tried to build unit on tile (28, 27) but unit cap reached. Build more CityTiles!; turn 144; cmd: bw 28 27\n",
            "eps  0.4858739637363176 | Reward 10001\n",
            "1/1 [==============================] - 0s 4ms/step - loss: 0.2292\n",
            "\u001b[33m[WARN]\u001b[39m (match_Q0oRhavb9jdH) - Agent 1 tried to build unit on tile (28, 27) but unit cap reached. Build more CityTiles!; turn 145; cmd: bw 28 27\n",
            "eps  0.483444593917636 | Reward 10001\n",
            "1/1 [==============================] - 0s 4ms/step - loss: 0.2351\n",
            "eps  0.4810273709480478 | Reward 10001\n",
            "1/1 [==============================] - 0s 4ms/step - loss: 3.3374e-05\n",
            "\u001b[33m[WARN]\u001b[39m (match_Q0oRhavb9jdH) - Agent 1 tried to build unit on tile (28, 27) but CityTile still with cooldown of 9; turn 147; cmd: bw 28 27\n",
            "eps  0.47862223409330756 | Reward 10001\n",
            "1/1 [==============================] - 0s 4ms/step - loss: 2.3210e-06\n",
            "\u001b[33m[WARN]\u001b[39m (match_Q0oRhavb9jdH) - Agent 1 tried to build unit on tile (28, 27) but CityTile still with cooldown of 8; turn 148; cmd: bw 28 27\n",
            "eps  0.47622912292284103 | Reward 10001\n",
            "1/1 [==============================] - 0s 4ms/step - loss: 0.2288\n",
            "\u001b[33m[WARN]\u001b[39m (match_Q0oRhavb9jdH) - Agent 1 tried to build unit on tile (28, 27) but CityTile still with cooldown of 7; turn 149; cmd: bw 28 27\n",
            "eps  0.4738479773082268 | Reward 10001\n",
            "1/1 [==============================] - 0s 4ms/step - loss: 3.2830e-05\n",
            "\u001b[33m[WARN]\u001b[39m (match_Q0oRhavb9jdH) - Agent 1 tried to build unit on tile (28, 27) but CityTile still with cooldown of 6; turn 150; cmd: bw 28 27\n",
            "eps  0.47147873742168567 | Reward 10001\n",
            "1/1 [==============================] - 0s 4ms/step - loss: 0.2326\n",
            "eps  0.46912134373457726 | Reward 10001\n",
            "1/1 [==============================] - 0s 4ms/step - loss: 3.3239e-05\n",
            "\u001b[33m[WARN]\u001b[39m (match_Q0oRhavb9jdH) - Agent 1 tried to build unit on tile (28, 27) but CityTile still with cooldown of 4; turn 152; cmd: bw 28 27\n",
            "eps  0.46677573701590436 | Reward 10001\n",
            "1/1 [==============================] - 0s 4ms/step - loss: 0.2328\n",
            "\u001b[33m[WARN]\u001b[39m (match_Q0oRhavb9jdH) - Agent 1 tried to move unit u_4 with cooldown: 2; turn 153; cmd: m u_4 n\n",
            "\u001b[33m[WARN]\u001b[39m (match_Q0oRhavb9jdH) - Agent 1 tried to build unit on tile (28, 27) but CityTile still with cooldown of 3; turn 153; cmd: bw 28 27\n",
            "eps  0.46444185833082485 | Reward 10001\n",
            "1/1 [==============================] - 0s 5ms/step - loss: 0.2347\n",
            "\u001b[33m[WARN]\u001b[39m (match_Q0oRhavb9jdH) - Agent 1 tried to move unit u_4 with cooldown: 1; turn 154; cmd: m u_4 w\n",
            "eps  0.46211964903917074 | Reward 10001\n",
            "1/1 [==============================] - 0s 4ms/step - loss: 3.3346e-05\n",
            "\u001b[33m[WARN]\u001b[39m (match_Q0oRhavb9jdH) - Agent 1 tried to build unit on tile (28, 27) but CityTile still with cooldown of 1; turn 155; cmd: bw 28 27\n",
            "eps  0.4598090507939749 | Reward 10001\n",
            "1/1 [==============================] - 0s 4ms/step - loss: 0.2359\n",
            "eps  0.457510005540005 | Reward 10001\n",
            "1/1 [==============================] - 0s 4ms/step - loss: 3.3631e-05\n",
            "\u001b[33m[WARN]\u001b[39m (match_Q0oRhavb9jdH) - Agent 1 tried to build unit on tile (28, 27) but unit cap reached. Build more CityTiles!; turn 157; cmd: bw 28 27\n",
            "eps  0.45522245551230495 | Reward 10001\n",
            "1/1 [==============================] - 0s 4ms/step - loss: 2.3213e-06\n",
            "\u001b[33m[WARN]\u001b[39m (match_Q0oRhavb9jdH) - Agent 1 tried to build unit on tile (28, 27) but unit cap reached. Build more CityTiles!; turn 158; cmd: bw 28 27\n",
            "eps  0.4529463432347434 | Reward 10001\n",
            "1/1 [==============================] - 0s 4ms/step - loss: 0.2321\n",
            "eps  0.4506816115185697 | Reward 10001\n",
            "1/1 [==============================] - 0s 4ms/step - loss: 3.3376e-05\n",
            "\u001b[33m[WARN]\u001b[39m (match_Q0oRhavb9jdH) - Agent 1 tried to build unit on tile (28, 27) but unit cap reached. Build more CityTiles!; turn 160; cmd: bw 28 27\n",
            "eps  0.4484282034609769 | Reward 10001\n",
            "1/1 [==============================] - 0s 4ms/step - loss: 2.3211e-06\n",
            "\u001b[33m[WARN]\u001b[39m (match_Q0oRhavb9jdH) - Agent 1 tried to build unit on tile (28, 27) but unit cap reached. Build more CityTiles!; turn 161; cmd: bw 28 27\n",
            "eps  0.446186062443672 | Reward 10001\n",
            "1/1 [==============================] - 0s 4ms/step - loss: 0.2312\n",
            "eps  0.4439551321314536 | Reward 10001\n",
            "1/1 [==============================] - 0s 4ms/step - loss: 0.2384\n",
            "eps  0.4417353564707963 | Reward 10001\n",
            "1/1 [==============================] - 0s 4ms/step - loss: 0.2387\n",
            "eps  0.43952667968844233 | Reward 10001\n",
            "1/1 [==============================] - 0s 4ms/step - loss: 3.3712e-05\n",
            "\u001b[33m[WARN]\u001b[39m (match_Q0oRhavb9jdH) - Agent 1 tried to build unit on tile (28, 27) but unit cap reached. Build more CityTiles!; turn 165; cmd: bw 28 27\n",
            "eps  0.43732904629000013 | Reward 10001\n",
            "1/1 [==============================] - 0s 4ms/step - loss: 0.2292\n",
            "\u001b[33m[WARN]\u001b[39m (match_Q0oRhavb9jdH) - Agent 1 tried to build unit on tile (28, 27) but unit cap reached. Build more CityTiles!; turn 166; cmd: bw 28 27\n",
            "eps  0.4351424010585501 | Reward 10001\n",
            "1/1 [==============================] - 0s 4ms/step - loss: 0.2330\n",
            "eps  0.43296668905325736 | Reward 10001\n",
            "1/1 [==============================] - 0s 4ms/step - loss: 0.2360\n",
            "eps  0.43080185560799106 | Reward 10001\n",
            "1/1 [==============================] - 0s 5ms/step - loss: 3.3361e-05\n",
            "\u001b[33m[WARN]\u001b[39m (match_Q0oRhavb9jdH) - Agent 1 tried to build unit on tile (28, 27) but unit cap reached. Build more CityTiles!; turn 169; cmd: bw 28 27\n",
            "eps  0.4286478463299511 | Reward 10001\n",
            "1/1 [==============================] - 0s 4ms/step - loss: 2.3227e-06\n",
            "\u001b[33m[WARN]\u001b[39m (match_Q0oRhavb9jdH) - Agent 1 tried to build unit on tile (28, 27) but unit cap reached. Build more CityTiles!; turn 170; cmd: bw 28 27\n",
            "eps  0.42650460709830135 | Reward 10001\n",
            "1/1 [==============================] - 0s 4ms/step - loss: 0.2297\n",
            "eps  0.42437208406280985 | Reward 10001\n",
            "1/1 [==============================] - 0s 4ms/step - loss: 3.2924e-05\n",
            "\u001b[33m[WARN]\u001b[39m (match_Q0oRhavb9jdH) - Agent 1 tried to build unit on tile (28, 27) but unit cap reached. Build more CityTiles!; turn 172; cmd: bw 28 27\n",
            "eps  0.4222502236424958 | Reward 10001\n",
            "1/1 [==============================] - 0s 5ms/step - loss: 2.3203e-06\n",
            "\u001b[33m[WARN]\u001b[39m (match_Q0oRhavb9jdH) - Agent 1 tried to build unit on tile (28, 27) but unit cap reached. Build more CityTiles!; turn 173; cmd: bw 28 27\n",
            "eps  0.42013897252428334 | Reward 10001\n",
            "1/1 [==============================] - 0s 4ms/step - loss: 2.3228e-06\n",
            "\u001b[33m[WARN]\u001b[39m (match_Q0oRhavb9jdH) - Agent 1 tried to build unit on tile (28, 27) but unit cap reached. Build more CityTiles!; turn 174; cmd: bw 28 27\n",
            "eps  0.4180382776616619 | Reward 10001\n",
            "1/1 [==============================] - 0s 4ms/step - loss: 2.3213e-06\n",
            "\u001b[33m[WARN]\u001b[39m (match_Q0oRhavb9jdH) - Agent 1 tried to build unit on tile (28, 27) but unit cap reached. Build more CityTiles!; turn 175; cmd: bw 28 27\n",
            "eps  0.4159480862733536 | Reward 10001\n",
            "1/1 [==============================] - 0s 4ms/step - loss: 2.3210e-06\n",
            "\u001b[33m[WARN]\u001b[39m (match_Q0oRhavb9jdH) - Agent 1 tried to build unit on tile (28, 27) but unit cap reached. Build more CityTiles!; turn 176; cmd: bw 28 27\n",
            "eps  0.41386834584198684 | Reward 10001\n",
            "1/1 [==============================] - 0s 3ms/step - loss: 0.2292\n",
            "eps  0.4117990041127769 | Reward 10001\n",
            "1/1 [==============================] - 0s 4ms/step - loss: 3.3103e-05\n",
            "\u001b[33m[WARN]\u001b[39m (match_Q0oRhavb9jdH) - Agent 1 tried to build unit on tile (28, 27) but unit cap reached. Build more CityTiles!; turn 178; cmd: bw 28 27\n",
            "eps  0.40974000909221303 | Reward 10001\n",
            "1/1 [==============================] - 0s 4ms/step - loss: 2.3213e-06\n",
            "\u001b[33m[WARN]\u001b[39m (match_Q0oRhavb9jdH) - Agent 1 tried to build unit on tile (28, 27) but unit cap reached. Build more CityTiles!; turn 179; cmd: bw 28 27\n",
            "eps  0.40769130904675194 | Reward 10001\n",
            "1/1 [==============================] - 0s 4ms/step - loss: 2.3209e-06\n",
            "\u001b[33m[WARN]\u001b[39m (match_Q0oRhavb9jdH) - Agent 1 tried to build unit on tile (28, 27) but unit cap reached. Build more CityTiles!; turn 180; cmd: bw 28 27\n",
            "eps  0.40565285250151817 | Reward 10001\n",
            "1/1 [==============================] - 0s 4ms/step - loss: 0.2382\n",
            "\u001b[33m[WARN]\u001b[39m (match_Q0oRhavb9jdH) - Agent 1 tried to build unit on tile (28, 27) but unit cap reached. Build more CityTiles!; turn 181; cmd: bw 28 27\n",
            "eps  0.4036245882390106 | Reward 10001\n",
            "1/1 [==============================] - 0s 4ms/step - loss: 0.2337\n",
            "eps  0.4016064652978155 | Reward 10001\n",
            "1/1 [==============================] - 0s 4ms/step - loss: 0.2335\n",
            "\u001b[33m[WARN]\u001b[39m (match_Q0oRhavb9jdH) - Agent 1 tried to move unit u_4 with cooldown: 1; turn 183; cmd: m u_4 w\n",
            "eps  0.3995984329713264 | Reward 10001\n",
            "1/1 [==============================] - 0s 4ms/step - loss: 0.2372\n",
            "\u001b[33m[WARN]\u001b[39m (match_Q0oRhavb9jdH) - Agent 1 tried to run research at CityTile (28, 27) but CityTile still on cooldown 9; turn 184; cmd: r 28 27\n",
            "eps  0.3976004408064698 | Reward 10001\n",
            "1/1 [==============================] - 0s 4ms/step - loss: 3.3672e-05\n",
            "\u001b[33m[WARN]\u001b[39m (match_Q0oRhavb9jdH) - Agent 1 tried to build unit on tile (28, 27) but CityTile still with cooldown of 8; turn 185; cmd: bw 28 27\n",
            "eps  0.39561243860243744 | Reward 10001\n",
            "1/1 [==============================] - 0s 4ms/step - loss: 0.2321\n",
            "eps  0.3936343764094253 | Reward 10001\n",
            "1/1 [==============================] - 0s 4ms/step - loss: 3.3202e-05\n",
            "\u001b[33m[WARN]\u001b[39m (match_Q0oRhavb9jdH) - Agent 1 tried to build unit on tile (28, 27) but CityTile still with cooldown of 6; turn 187; cmd: bw 28 27\n",
            "eps  0.39166620452737816 | Reward 10001\n",
            "1/1 [==============================] - 0s 4ms/step - loss: 0.2351\n",
            "eps  0.3897078735047413 | Reward 10001\n",
            "1/1 [==============================] - 0s 4ms/step - loss: 3.3653e-05\n",
            "\u001b[33m[WARN]\u001b[39m (match_Q0oRhavb9jdH) - Agent 1 tried to build unit on tile (28, 27) but CityTile still with cooldown of 4; turn 189; cmd: bw 28 27\n",
            "eps  0.3877593341372176 | Reward 10001\n",
            "1/1 [==============================] - 0s 4ms/step - loss: 2.3237e-06\n",
            "\u001b[33m[WARN]\u001b[39m (match_Q0oRhavb9jdH) - Agent 1 tried to build unit on tile (28, 27) but CityTile still with cooldown of 3; turn 190; cmd: bw 28 27\n",
            "eps  0.3858205374665315 | Reward 10001\n",
            "1/1 [==============================] - 0s 4ms/step - loss: 2.3212e-06\n",
            "\u001b[33m[WARN]\u001b[39m (match_Q0oRhavb9jdH) - Agent 1 tried to build unit on tile (28, 27) but CityTile still with cooldown of 2; turn 191; cmd: bw 28 27\n",
            "eps  0.38389143477919885 | Reward 10001\n",
            "1/1 [==============================] - 0s 4ms/step - loss: 2.3208e-06\n",
            "\u001b[33m[WARN]\u001b[39m (match_Q0oRhavb9jdH) - Agent 1 tried to build unit on tile (28, 27) but CityTile still with cooldown of 1; turn 192; cmd: bw 28 27\n",
            "eps  0.3819719776053028 | Reward 10001\n",
            "1/1 [==============================] - 0s 4ms/step - loss: 0.2290\n",
            "eps  0.3800621177172763 | Reward 10001\n",
            "1/1 [==============================] - 0s 4ms/step - loss: 0.2334\n",
            "\u001b[33m[WARN]\u001b[39m (match_Q0oRhavb9jdH) - Agent 1 tried to move unit u_4 with cooldown: 3; turn 194; cmd: m u_4 c\n",
            "eps  0.37816180712868996 | Reward 10001\n",
            "1/1 [==============================] - 0s 4ms/step - loss: 3.3180e-05\n",
            "\u001b[33m[WARN]\u001b[39m (match_Q0oRhavb9jdH) - Agent 1 tried to build unit on tile (28, 27) but unit cap reached. Build more CityTiles!; turn 195; cmd: bw 28 27\n",
            "eps  0.37627099809304654 | Reward 10001\n",
            "1/1 [==============================] - 0s 4ms/step - loss: 2.3210e-06\n",
            "\u001b[33m[WARN]\u001b[39m (match_Q0oRhavb9jdH) - Agent 1 tried to build unit on tile (28, 27) but unit cap reached. Build more CityTiles!; turn 196; cmd: bw 28 27\n",
            "eps  0.3743896431025813 | Reward 10001\n",
            "1/1 [==============================] - 0s 4ms/step - loss: 0.2359\n"
          ]
        }
      ]
    },
    {
      "cell_type": "code",
      "metadata": {
        "id": "bVEqwhnmghkQ"
      },
      "source": [
        "env.render(mode=\"ipython\", width=1000, height=800)"
      ],
      "execution_count": null,
      "outputs": []
    },
    {
      "cell_type": "code",
      "metadata": {
        "id": "NiuZLKBOguCV"
      },
      "source": [
        ""
      ],
      "execution_count": null,
      "outputs": []
    }
  ]
}