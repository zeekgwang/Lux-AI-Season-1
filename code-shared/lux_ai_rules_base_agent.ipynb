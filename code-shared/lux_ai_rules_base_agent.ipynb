{
  "nbformat": 4,
  "nbformat_minor": 0,
  "metadata": {
    "colab": {
      "name": "lux-ai-rules-base-agent.ipynb",
      "provenance": [],
      "authorship_tag": "ABX9TyNwKEKo3P77T3c4DkSuBhQM"
    },
    "kernelspec": {
      "name": "python3",
      "display_name": "Python 3"
    },
    "language_info": {
      "name": "python"
    }
  },
  "cells": [
    {
      "cell_type": "markdown",
      "metadata": {
        "id": "ZQmWN1Jy_2fn"
      },
      "source": [
        "https://www.kaggle.com/durbin164/lux-ai-rules-base-agent"
      ]
    },
    {
      "cell_type": "code",
      "metadata": {
        "colab": {
          "base_uri": "https://localhost:8080/"
        },
        "id": "2QheUU26_T13",
        "outputId": "c49f4605-f47b-450f-843d-eb13e9adaa1b"
      },
      "source": [
        "!pip install kaggle-environments -U"
      ],
      "execution_count": 3,
      "outputs": [
        {
          "output_type": "stream",
          "name": "stdout",
          "text": [
            "Requirement already satisfied: kaggle-environments in /usr/local/lib/python3.7/dist-packages (1.8.12)\n",
            "Requirement already satisfied: jsonschema>=3.0.1 in /usr/local/lib/python3.7/dist-packages (from kaggle-environments) (3.2.0)\n",
            "Requirement already satisfied: importlib-metadata in /usr/local/lib/python3.7/dist-packages (from jsonschema>=3.0.1->kaggle-environments) (4.6.4)\n",
            "Requirement already satisfied: setuptools in /usr/local/lib/python3.7/dist-packages (from jsonschema>=3.0.1->kaggle-environments) (57.4.0)\n",
            "Requirement already satisfied: attrs>=17.4.0 in /usr/local/lib/python3.7/dist-packages (from jsonschema>=3.0.1->kaggle-environments) (21.2.0)\n",
            "Requirement already satisfied: pyrsistent>=0.14.0 in /usr/local/lib/python3.7/dist-packages (from jsonschema>=3.0.1->kaggle-environments) (0.18.0)\n",
            "Requirement already satisfied: six>=1.11.0 in /usr/local/lib/python3.7/dist-packages (from jsonschema>=3.0.1->kaggle-environments) (1.15.0)\n",
            "Requirement already satisfied: typing-extensions>=3.6.4 in /usr/local/lib/python3.7/dist-packages (from importlib-metadata->jsonschema>=3.0.1->kaggle-environments) (3.7.4.3)\n",
            "Requirement already satisfied: zipp>=0.5 in /usr/local/lib/python3.7/dist-packages (from importlib-metadata->jsonschema>=3.0.1->kaggle-environments) (3.5.0)\n"
          ]
        }
      ]
    },
    {
      "cell_type": "code",
      "metadata": {
        "colab": {
          "base_uri": "https://localhost:8080/"
        },
        "id": "keZJHdxA_mnX",
        "outputId": "a3ab4b93-adc1-4375-fe92-b4d265151e23"
      },
      "source": [
        "!git clone https://github.com/Lux-AI-Challenge/Lux-Design-2021.git"
      ],
      "execution_count": 4,
      "outputs": [
        {
          "output_type": "stream",
          "name": "stdout",
          "text": [
            "Cloning into 'Lux-Design-2021'...\n",
            "remote: Enumerating objects: 4025, done.\u001b[K\n",
            "remote: Counting objects: 100% (1937/1937), done.\u001b[K\n",
            "remote: Compressing objects: 100% (913/913), done.\u001b[K\n",
            "remote: Total 4025 (delta 1162), reused 1691 (delta 993), pack-reused 2088\u001b[K\n",
            "Receiving objects: 100% (4025/4025), 16.25 MiB | 16.37 MiB/s, done.\n",
            "Resolving deltas: 100% (2404/2404), done.\n"
          ]
        }
      ]
    },
    {
      "cell_type": "code",
      "metadata": {
        "id": "FdkehhybAOKR"
      },
      "source": [
        "!cp -r ./Lux-Design-2021/kits/python/simple/lux ."
      ],
      "execution_count": 5,
      "outputs": []
    },
    {
      "cell_type": "code",
      "metadata": {
        "id": "RzsvVSoFAapH"
      },
      "source": [
        "from lux.game import Game\n",
        "from lux.game_map import Cell, RESOURCE_TYPES, Position\n",
        "from lux.constants import Constants\n",
        "from lux.game_constants import GAME_CONSTANTS\n",
        "from lux import annotate\n",
        "import math\n",
        "import sys\n",
        "import collections\n",
        "\n",
        "import numpy as np"
      ],
      "execution_count": 37,
      "outputs": []
    },
    {
      "cell_type": "code",
      "metadata": {
        "id": "tCxw_cmYAk62"
      },
      "source": [
        "# game_state를 받아와서, resource가 있는 cell들을 list에 추가\n",
        "def find_resources(game_state):\n",
        "    resource_tiles: list[Cell] = []\n",
        "    width, height = game_state.map_width, game_state.map_height\n",
        "    for y in range(height):\n",
        "        for x in range(width):\n",
        "            cell = game_state.map.get_cell(x, y)\n",
        "            if cell.has_resource():\n",
        "                resource_tiles.append(cell)\n",
        "    return resource_tiles"
      ],
      "execution_count": 38,
      "outputs": []
    },
    {
      "cell_type": "code",
      "metadata": {
        "id": "jy2knbmvH9zx"
      },
      "source": [
        "# 현재 포지션에서 해당 player가 닿을 수 있는 가장 가까운 resource tile\n",
        "def find_closest_resources(pos, player, resource_tiles):\n",
        "    closest_dist = main.inf\n",
        "    closest_resource_tile = None\n",
        "    for resource_tile in resource_tiles:\n",
        "        if resource_tile.resource.type == Constants.RESOURCE_TYPES.COAL and not player.researched_coal():\n",
        "            continue\n",
        "        if resource_tile.resource.type == Constants.RESOURCE_TYPES.URANIUM and not player.researched_uranium():\n",
        "            continue\n",
        "\n",
        "        dist = resource_tile.pos.distance_to(pos)\n",
        "        if dist < closest_dist:\n",
        "            closest_dist = dist\n",
        "            closest_resource_tile = resource_tile\n",
        "\n",
        "    return closest_resource_tile"
      ],
      "execution_count": 39,
      "outputs": []
    },
    {
      "cell_type": "code",
      "metadata": {
        "id": "FRpaZQveI0iS"
      },
      "source": [
        "# 현재 위치에서 player에게 가장 가까운 city\n",
        "def find_closest_city_tile(pos, player):\n",
        "    closest_city_tile = None\n",
        "    if len(player.cities) > 0:\n",
        "        closest_dist = math.inf\n",
        "\n",
        "        for k, city in player.cities.items():\n",
        "            for city_tile in city.citytiles:\n",
        "                dist = city_tile.pos.distance_to(pos)\n",
        "                if dist < closest_dist:\n",
        "                    closest_dist = dist\n",
        "                    closest_city_tile = closest_city_tile\n",
        "\n",
        "    return closest_city_tile"
      ],
      "execution_count": 40,
      "outputs": []
    },
    {
      "cell_type": "code",
      "metadata": {
        "id": "sq5vynr6JN_X"
      },
      "source": [
        "# resource tile 중에 player와 가까운 거리 순으로 정렬\n",
        "def find_resources_distance(pos, player, resource_tiles):\n",
        "    resources_distance = {}\n",
        "    for resource_tile in resource_tiles:\n",
        "        if resource_tile.resource.type == Constants.RESOURCE_TYPES.COAL and not player.researched_coal():\n",
        "            continue\n",
        "        if resource_tile.resource.type == Constants.RESOURCE_TYPES.URANIUM and not player.researched_uranium():\n",
        "            continue\n",
        "\n",
        "        dist = resource_tile.pos.distance_to(pos)\n",
        "        resources_distance[resource_tile] = dist\n",
        "\n",
        "    resource_distance = collections.OrderedDict(sorted(resources_distance.items(), key = lambda x:x[1]))\n",
        "    return resource_distance"
      ],
      "execution_count": 41,
      "outputs": []
    },
    {
      "cell_type": "code",
      "metadata": {
        "id": "YeVIpmSBKGNU"
      },
      "source": [
        "# city tile 중에 player와 가까운 거리 순으로 정렬\n",
        "def find_city_tile_distance(pos, player):\n",
        "    city_tiles_distance = {}\n",
        "    if len(player.cities) > 0:\n",
        "        for k, city in player.cities.items():\n",
        "            for city_tile in city.citytiles:\n",
        "                dist = city_tile.pos.distance_to(pos)\n",
        "                city_tiles_distance[city_tile] = dist\n",
        "    city_tiles_distance = collections.OrderedDict(sorted(city_tiles_distance.items(), key = lambda x: x[1]))\n",
        "    return city_tiles_distance"
      ],
      "execution_count": 42,
      "outputs": []
    },
    {
      "cell_type": "code",
      "metadata": {
        "id": "CmXqyZ0cLA81"
      },
      "source": [
        "def get_random_step():\n",
        "    return np.random.choice(['s', 'n', 'w', 'e'])"
      ],
      "execution_count": 43,
      "outputs": []
    },
    {
      "cell_type": "code",
      "metadata": {
        "id": "oxI1T-Y7LNLk"
      },
      "source": [
        "game_state = None\n",
        "\n",
        "def agent(observation, configuration):\n",
        "    global game_state\n",
        "\n",
        "    ### Do not edit ###\n",
        "    if observation[\"step\"] == 0:\n",
        "        game_state = Game()\n",
        "        game_state._initialize(observation[\"updates\"])\n",
        "        game_state._update(observation[\"updates\"][2:])\n",
        "        game_state.id = observation.player\n",
        "    else:\n",
        "        game_state._update(observation[\"updates\"])\n",
        "\n",
        "    actions = []\n",
        "\n",
        "    player = game_state.players[observation.player]\n",
        "    opponent = game_state.players[(observation.player + 1) % 2]\n",
        "    width, height = game_state.map.width, game_state.map.height\n",
        "\n",
        "    if game_state.turn == 0:\n",
        "        print(\"Agent is running!\", file=sys.stderr)\n",
        "\n",
        "    # 현재 game 판에 있는 모든 resource tile 가져옴\n",
        "    resource_tiles = find_resources(game_state)\n",
        "\n",
        "    # unit의 다음 움직임을 저장해두는 dict\n",
        "    move_mapper = {}\n",
        "\n",
        "    # 현재 모든 city tile 수\n",
        "    total_city_tiles = sum([len(city.citytiles) for city in player.cities.values()])\n",
        "\n",
        "    # 만약 city tile이 현재 unit 보다 많으면 unit을 만든다.\n",
        "    if total_city_tiles > len(player.units):\n",
        "        for city in player.cities.values():\n",
        "            city_tiles = city.citytiles[0]\n",
        "            if city_tiles.cooldown <= 0:\n",
        "                action = city_tiles.build_worker()\n",
        "                actions.append(action)\n",
        "                break\n",
        "\n",
        "    # 남은 밤 수 \n",
        "    night_step_left = 40 - max((observation[\"step\"] % 40), 30)\n",
        "\n",
        "    # 도시를 지을 수 있을지 없을지 판단\n",
        "    can_build = False\n",
        "\n",
        "    # 만약에 city가 하나라도 있고\n",
        "    if len(player.cities) > 0:\n",
        "        # 도시들을 loop 돌면서\n",
        "        for k, city in player.cities.items():\n",
        "            # 각 도시의 city tile의 수\n",
        "            total_city_tiles = len(city.citytiles)\n",
        "\n",
        "            # 각 도시를 유지하기 위해 필요한 fuel (이해가 잘 안감)\n",
        "            total_need_fuel = (23 * total_city_tiles * night_step_left) * 3.5\n",
        "\n",
        "            # 만약 도시의 연료가 필요 연료보다 많으면\n",
        "            if city.fuel - total_need_fuel > 20:\n",
        "                # 하나 더 지을 수 있다\n",
        "                can_build = True\n",
        "                break\n",
        "\n",
        "    # 유닛의 현재 위치를 move_mapper에 삽입\n",
        "    for unit in player.units:\n",
        "        move_mapper[(unit.pos.x, unit.pos.y)] = unit\n",
        "\n",
        "    # 각 유닛별로 loop\n",
        "    for unit in player.units:\n",
        "        # 유닛이 현재 움직일 수 있다면 (쿨타임이 끝났으면)\n",
        "        if unit.is_worker() and unit.can_act():\n",
        "            # 만약 도시를 지을 연료가 있고, 유닛의 현재 위치에다가 지을 수 있다면\n",
        "            if can_build and unit.can_build(game_state.map):\n",
        "                is_build = False\n",
        "                \n",
        "                # 유닛의 현재 위치 주변에 citytile이 있으면 지을 수 있다.\n",
        "                for city in player.cities.values():\n",
        "                    for citytiles in city.citytiles:\n",
        "                        if citytiles.pos.is_adjacent(unit.pos):\n",
        "                            is_build = True\n",
        "                            break\n",
        "\n",
        "                    if is_build:\n",
        "                        break\n",
        "\n",
        "                if is_build:\n",
        "                    action = unit.build_city()\n",
        "                    actions.append(action)\n",
        "\n",
        "                    # 해당 유닛이 지을 거니까 can_build는 False 처리\n",
        "                    can_build = False\n",
        "                    continue\n",
        "\n",
        "            # 만약 도시를 지을 수 없다면\n",
        "\n",
        "            # 현재 유닛의 위치에서 resource tile들의 위치를 정렬해서 받아옴\n",
        "            resources_distance = find_resources_distance(unit.pos, player, resource_tiles)\n",
        "            # 현재 유닛의 위치에서 city tile들의 위치를 정렬해서 받아옴\n",
        "            city_tile_distance = find_city_tile_distance(unit.pos, player)\n",
        "\n",
        "            flag = True\n",
        "\n",
        "            # 만약 유닛의 현재 위치가 resource tile 이면 flag 는 False\n",
        "            for r in resource_tiles:\n",
        "                if r.pos.equals(unit.pos):\n",
        "                    flag = False\n",
        "                    break\n",
        "\n",
        "            # 유닛이 담을 수 있는 cago가 남아 있고, 현재 위치가 resource tile이 아니면\n",
        "            if unit.get_cargo_space_left() > 0 and flag:\n",
        "                # resource tile 이 있다면\n",
        "                if resources_distance is not None and len(resources_distance) > 0:\n",
        "                    closest_resource_tile, c_dist = None, None\n",
        "                    can_move = False\n",
        "\n",
        "                    # 각 resource tile을 loop\n",
        "                    for resource, dist in resources_distance.items():\n",
        "                        # 만약 해당 resource tile로 가고자 하는 유닛이 하나도 없으면\n",
        "                        if move_mapper.get((resource.pos.x, resource.pos.y)) is None:\n",
        "                            # 지금 resource가 가장 가까운 resource tile\n",
        "                            closest_resource_tile = resource\n",
        "                            c_dist = dist\n",
        "\n",
        "                            # 만약 resource tile로 갈 수 있다면\n",
        "                            if closest_resource_tile is not None and not closest_resource_tile.pos.equals(unit.pos):\n",
        "                                # annotation line을 그리고\n",
        "                                actions.append(annotate.line(unit.pos.x, unit.pos.y, closest_resource_tile.pos.x, closest_resource_tile.pos.y))\n",
        "                                direction = unit.pos.direction_to(closest_resource_tile.pos)\n",
        "                                \n",
        "                                # 해당 resource tile로 갈 수 있는 다음 칸을 구함\n",
        "                                next_pos = unit.pos.translate(direction, 1)\n",
        "\n",
        "                                # 만약 갈 칸에 unit이 있으면 다음 resource tile을 찾아봄\n",
        "                                if move_mapper.get((next_pos.x, next_pos.y)):\n",
        "                                    continue\n",
        "\n",
        "                                # 다음 칸으로 갈 수 있으면\n",
        "                                can_move = True\n",
        "                                next_state_pos = unit.pos.translate(direction, 1)\n",
        "\n",
        "                                # 다음 칸으로 움직이고 mapper에 저장\n",
        "                                action = unit.move(direction)\n",
        "                                actions.append(action)\n",
        "                                move_mapper[(next_state_pos.x, next_state_pos.y)] = unit\n",
        "                                break\n",
        "\n",
        "                    # 만약 갈 수 있는 칸이 없으면 아무렇게나 움직임\n",
        "                    if not can_move:\n",
        "                        direction = get_random_step()\n",
        "                        next_state_pos = unit.pos.translate(direction, 1)\n",
        "\n",
        "                        action = unit.move(direction)\n",
        "                        actions.append(action)\n",
        "                        move_mapper[(next_state_pos.x, next_state_pos.y)] = unit\n",
        "            # 유닛이 담을 수 있는 연료 칸이 없으면\n",
        "            else:\n",
        "                # 만약 갈 수 있는 citytile이 있으면\n",
        "                if city_tile_distance is not None and len(city_tile_distance) > 0:\n",
        "                    closest_city_tile = None\n",
        "                    can_move = False\n",
        "\n",
        "                    # city tile 중에 가장 가까운 tile 선택\n",
        "                    for city_tile, dist in city_tile_distance.items():\n",
        "                        if move_mapper.get((city_tile.pos.x, city_tile.pos.y)) is None:\n",
        "                            closest_city_tile = city_tile\n",
        "\n",
        "                            if closest_city_tile is not None:\n",
        "                                actions.append(annotate.line(unit.pos.x, unit.pos.y, closest_city_tile.pos.x, closest_city_tile.pos.y))\n",
        "                                direction = unit.pos.direction_to(closest_city_tile.pos)\n",
        "                                next_pos = unit.pos.translate(direction,1)\n",
        "\n",
        "                                if move_mapper.get((next_pos.x, next_pos.y)):\n",
        "                                    continue\n",
        "                                \n",
        "                                can_move = True\n",
        "                                next_state_pos = unit.pos.translate(direction, 1)\n",
        "\n",
        "                                action = unit.move(direction)\n",
        "                                actions.append(action)\n",
        "                                move_mapper[(next_state_pos.x, next_state_pos.y)] = unit\n",
        "\n",
        "                                break\n",
        "                    # 만약 갈 수 있는 city tile이 없으면 random\n",
        "                    if not can_move:\n",
        "                        direction = get_random_step()\n",
        "                        next_state_pos = unit.pos.translate(direction, 1)\n",
        "\n",
        "                        action = unit.move(direction)\n",
        "                        actions.append(action)\n",
        "                        move_mapper[(next_state_pos.x, next_state_pos.y)] = unit\n",
        "    return actions"
      ],
      "execution_count": 64,
      "outputs": []
    },
    {
      "cell_type": "code",
      "metadata": {
        "id": "MW9PITNRBZvm"
      },
      "source": [
        "from kaggle_environments import make\n",
        "\n",
        "env = make(\"lux_ai_2021\", configuration={\"seed\": 52, \"loglevel\": 2, \"annotations\": True}, debug=True)\n",
        "steps = env.run([agent, \"simple_agent\"])\n",
        "env.render(mode=\"ipython\", width=1000, height=800)"
      ],
      "execution_count": null,
      "outputs": []
    },
    {
      "cell_type": "code",
      "metadata": {
        "id": "n3e2ymVvUdTY"
      },
      "source": [
        ""
      ],
      "execution_count": 30,
      "outputs": []
    }
  ]
}