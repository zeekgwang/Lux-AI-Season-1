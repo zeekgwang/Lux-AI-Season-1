{
  "nbformat": 4,
  "nbformat_minor": 0,
  "metadata": {
    "colab": {
      "name": "[Lux AI] Working Title Bot.ipynb",
      "provenance": [],
      "collapsed_sections": [],
      "authorship_tag": "ABX9TyMDuJmLQuQk5AL5PEpxUrFK"
    },
    "kernelspec": {
      "name": "python3",
      "display_name": "Python 3"
    },
    "language_info": {
      "name": "python"
    }
  },
  "cells": [
    {
      "cell_type": "markdown",
      "metadata": {
        "id": "-y00857wpTbq"
      },
      "source": [
        "https://www.kaggle.com/huikang/lux-ai-working-title-bot#[Lux-AI]-Working-Title-Bot"
      ]
    },
    {
      "cell_type": "code",
      "metadata": {
        "colab": {
          "base_uri": "https://localhost:8080/"
        },
        "id": "MSVTTMMWpRln",
        "outputId": "9994e80d-fc20-4cf4-c801-838a80f644a6"
      },
      "source": [
        "!pip install kaggle-environments -U\n",
        "!git clone https://github.com/Lux-AI-Challenge/Lux-Design-2021.git\n",
        "!cp -r ./Lux-Design-2021/kits/python/simple/lux ."
      ],
      "execution_count": 1,
      "outputs": [
        {
          "output_type": "stream",
          "name": "stdout",
          "text": [
            "Collecting kaggle-environments\n",
            "  Downloading kaggle_environments-1.8.12-py2.py3-none-any.whl (1.2 MB)\n",
            "\u001b[K     |████████████████████████████████| 1.2 MB 7.7 MB/s \n",
            "\u001b[?25hCollecting jsonschema>=3.0.1\n",
            "  Downloading jsonschema-3.2.0-py2.py3-none-any.whl (56 kB)\n",
            "\u001b[K     |████████████████████████████████| 56 kB 3.0 MB/s \n",
            "\u001b[?25hRequirement already satisfied: setuptools in /usr/local/lib/python3.7/dist-packages (from jsonschema>=3.0.1->kaggle-environments) (57.4.0)\n",
            "Requirement already satisfied: attrs>=17.4.0 in /usr/local/lib/python3.7/dist-packages (from jsonschema>=3.0.1->kaggle-environments) (21.2.0)\n",
            "Requirement already satisfied: six>=1.11.0 in /usr/local/lib/python3.7/dist-packages (from jsonschema>=3.0.1->kaggle-environments) (1.15.0)\n",
            "Requirement already satisfied: importlib-metadata in /usr/local/lib/python3.7/dist-packages (from jsonschema>=3.0.1->kaggle-environments) (4.8.1)\n",
            "Requirement already satisfied: pyrsistent>=0.14.0 in /usr/local/lib/python3.7/dist-packages (from jsonschema>=3.0.1->kaggle-environments) (0.18.0)\n",
            "Requirement already satisfied: zipp>=0.5 in /usr/local/lib/python3.7/dist-packages (from importlib-metadata->jsonschema>=3.0.1->kaggle-environments) (3.5.0)\n",
            "Requirement already satisfied: typing-extensions>=3.6.4 in /usr/local/lib/python3.7/dist-packages (from importlib-metadata->jsonschema>=3.0.1->kaggle-environments) (3.7.4.3)\n",
            "Installing collected packages: jsonschema, kaggle-environments\n",
            "  Attempting uninstall: jsonschema\n",
            "    Found existing installation: jsonschema 2.6.0\n",
            "    Uninstalling jsonschema-2.6.0:\n",
            "      Successfully uninstalled jsonschema-2.6.0\n",
            "\u001b[31mERROR: pip's dependency resolver does not currently take into account all the packages that are installed. This behaviour is the source of the following dependency conflicts.\n",
            "nbclient 0.5.4 requires jupyter-client>=6.1.5, but you have jupyter-client 5.3.5 which is incompatible.\u001b[0m\n",
            "Successfully installed jsonschema-3.2.0 kaggle-environments-1.8.12\n",
            "Cloning into 'Lux-Design-2021'...\n",
            "remote: Enumerating objects: 4025, done.\u001b[K\n",
            "remote: Counting objects: 100% (1937/1937), done.\u001b[K\n",
            "remote: Compressing objects: 100% (913/913), done.\u001b[K\n",
            "remote: Total 4025 (delta 1162), reused 1691 (delta 993), pack-reused 2088\u001b[K\n",
            "Receiving objects: 100% (4025/4025), 16.25 MiB | 16.71 MiB/s, done.\n",
            "Resolving deltas: 100% (2404/2404), done.\n"
          ]
        }
      ]
    },
    {
      "cell_type": "markdown",
      "metadata": {
        "id": "_pm8ggU_pf_i"
      },
      "source": [
        "<h1>Upgrade Game Kit"
      ]
    },
    {
      "cell_type": "code",
      "metadata": {
        "colab": {
          "base_uri": "https://localhost:8080/"
        },
        "id": "UqQ3Bw8LrZ5h",
        "outputId": "d33d96d2-a456-48e2-d7af-1ae5c3a003e2"
      },
      "source": [
        "%%writefile lux/game_position.py\n",
        "\n",
        "from lux import game\n",
        "import random\n",
        "from typing import List, Set, Tuple\n",
        "\n",
        "from .constants import Constants\n",
        "\n",
        "DIRECTIONS = Constants.DIRECTIONS\n",
        "\n",
        "class Position:\n",
        "    def __init__(self, x, y):\n",
        "        self.x = x\n",
        "        self.y = y\n",
        "\n",
        "    def __sub__(self, pos: 'Position') -> int:\n",
        "        #  Manhattan Distance\n",
        "        return abs(pos.x - self.x) + abs(pos.y - self.y)\n",
        "\n",
        "    def distance_to(self, pos: 'Postion'):\n",
        "        return self - pos\n",
        "\n",
        "    def is_adjacent(self, pos: 'Position') -> bool:\n",
        "        return (self - pos) <= 1\n",
        "\n",
        "    def __eq__(self, pos: 'Position') -> bool:\n",
        "        return self.x == pos.x and self.y == pos.y\n",
        "\n",
        "    def equals(self, pos: 'Position'):\n",
        "        return self == pos\n",
        "\n",
        "    # position이 direction 방향으로 units 만큼 움직인다.\n",
        "    def translate(self, direction, units) -> 'Position':\n",
        "        if direction == DIRECTIONS.NORTH:\n",
        "            return Position(self.x, self.y - units)\n",
        "        elif direction == DIRECTIONS.EAST:\n",
        "            return Position(self.x + units, self.y)\n",
        "        elif direction == DIRECTIONS.SOUTH:\n",
        "            return Position(self.x, self.y + units)\n",
        "        elif direction == DIRECTIONS.WEST:\n",
        "            return Position(self.x - units, self.y)\n",
        "        elif direction == DIRECTIONS.CENTER:\n",
        "            return Position(self.x, self.y)\n",
        "\n",
        "    def __str__(self) -> str:\n",
        "        return f\"({self.x}, {self.y})\"\n",
        "\n",
        "    def __iter__(self):\n",
        "        for i in (self.x, self.y):\n",
        "            yield i"
      ],
      "execution_count": 4,
      "outputs": [
        {
          "output_type": "stream",
          "name": "stdout",
          "text": [
            "Overwriting lux/game_position.py\n"
          ]
        }
      ]
    },
    {
      "cell_type": "code",
      "metadata": {
        "colab": {
          "base_uri": "https://localhost:8080/"
        },
        "id": "SUNtecoFt5zf",
        "outputId": "8a3ddf6c-1468-4b15-b52e-e628a7a8ce1e"
      },
      "source": [
        "# test game_postion\n",
        "from lux.game_position import Position\n",
        "\n",
        "pos1 = Position(1, 2)\n",
        "pos2 = Position(2, 4)\n",
        "\n",
        "print(\"pos1 - pos2\", pos1 - pos2)\n",
        "\n",
        "print(\"test Position __iter__()\")\n",
        "for i in pos1:\n",
        "    print(i)"
      ],
      "execution_count": 5,
      "outputs": [
        {
          "output_type": "stream",
          "name": "stdout",
          "text": [
            "pos1 - pos2 3\n",
            "test Position __iter__()\n",
            "1\n",
            "2\n"
          ]
        }
      ]
    },
    {
      "cell_type": "code",
      "metadata": {
        "id": "bPG3_l9BpZ0s"
      },
      "source": [
        ""
      ],
      "execution_count": null,
      "outputs": []
    }
  ]
}